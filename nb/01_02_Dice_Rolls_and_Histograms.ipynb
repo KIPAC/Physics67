{
 "cells": [
  {
   "cell_type": "code",
   "execution_count": null,
   "id": "6149b229",
   "metadata": {},
   "outputs": [],
   "source": [
    "%matplotlib inline\n",
    "import matplotlib.pyplot as plt\n",
    "import numpy as np"
   ]
  },
  {
   "cell_type": "markdown",
   "id": "8cda6a8c",
   "metadata": {},
   "source": [
    "### New functions we will use in this module\n",
    "\n",
    "| Function Name            | What it does |\n",
    "| - | - |\n",
    "|    numpy.random.randint  | generates a random integer |\n",
    "|    numpy.zeros           | makes an array and fills it with zeros |\n",
    "|    numpy.arange          | makes an array and fills it with sequential integers e.g., [0, 1, 2, 3, ...] |\n",
    "|    numpy.searchsorted    | find the index corresponding to the last entry in a sorted list that is less than particular value.  This can be used to find which \"bin\" a particular value belongs in. |\n",
    "|    numpy.linsapce        | return evenly spaced values |\n",
    "|    numpy.bincount        | count the number of values that fall in a set of bins |\n",
    "|    numpy.histogram       | makes a \"histogam\" from a set of values, counting how many values fall into each of a set of bins. |\n",
    "|    plt.plot              | Plots a series of values |  \n",
    "|    plt.scatter           | Makes a \"scatter\" plot, plotting x and y values against each other |\n",
    "|    plt.hist              | Makes a \"histogram\" plotting the number of values that fall into a set of bins |\n",
    "|    plt.xlim              | Set the x-axis limits of a figure (also plt.ylim) |\n",
    "|    plt.xlabel            | Set the x-axis label of a figure (also plt.ylabel) |  \n",
    "|    array[i]              | Returns the i'th value in an array |  \n",
    "|   value += increment     | Adds increment to a variable.  |"
   ]
  },
  {
   "cell_type": "markdown",
   "id": "6f6882cc",
   "metadata": {},
   "source": [
    "### Simulating a dice roll"
   ]
  },
  {
   "cell_type": "markdown",
   "id": "efa98593",
   "metadata": {},
   "source": [
    "This is a simple function to simulate rolling a normal, six-sided dice (or die).\n",
    "\n",
    "np.random.randint(n) returns a random integer between 0 and n-1.  \n",
    "Providing the size=nTimes argument simulates nTimes seperate rolls and puts them all in a data array."
   ]
  },
  {
   "cell_type": "code",
   "execution_count": null,
   "id": "4296f03b",
   "metadata": {},
   "outputs": [],
   "source": [
    "def rollD6(nTimes):\n",
    "    return np.random.randint(6, size=nTimes) + 1"
   ]
  },
  {
   "cell_type": "code",
   "execution_count": null,
   "id": "59ef9745",
   "metadata": {},
   "outputs": [],
   "source": [
    "tenRolls = rollD6(nTimes=10)\n",
    "print(tenRolls)"
   ]
  },
  {
   "cell_type": "markdown",
   "id": "f31a879c",
   "metadata": {},
   "source": [
    "## Counting Occurences "
   ]
  },
  {
   "cell_type": "markdown",
   "id": "01ddebfa",
   "metadata": {},
   "source": [
    "One of the most common things to do with data is to count how many times something happened."
   ]
  },
  {
   "cell_type": "markdown",
   "id": "be858a25",
   "metadata": {},
   "source": [
    "First, let's simulate rolling a dice 600 times."
   ]
  },
  {
   "cell_type": "code",
   "execution_count": null,
   "id": "96a40f25",
   "metadata": {},
   "outputs": [],
   "source": [
    "dataSampleD6 = rollD6(nTimes=600)"
   ]
  },
  {
   "cell_type": "markdown",
   "id": "5317857e",
   "metadata": {},
   "source": [
    "Now, let's count the number of times we got each value.   Let's write a simple function to do this"
   ]
  },
  {
   "cell_type": "code",
   "execution_count": null,
   "id": "78632b17",
   "metadata": {},
   "outputs": [],
   "source": [
    "def countDiceResults(data):\n",
    "    counters = np.zeros((7), int)\n",
    "    for value in data:\n",
    "        counters[value] += 1\n",
    "    return counters"
   ]
  },
  {
   "cell_type": "code",
   "execution_count": null,
   "id": "00b925fe",
   "metadata": {},
   "outputs": [],
   "source": [
    "countDiceResults(dataSampleD6)"
   ]
  },
  {
   "cell_type": "markdown",
   "id": "03798b0d",
   "metadata": {},
   "source": [
    "#### pro-tip: numpy.bincount( )\n",
    "\n",
    "The numpy.bincount function does the same thing as the function we wrote above, and it is smart enough to figure out\n",
    "how many counters to use."
   ]
  },
  {
   "cell_type": "code",
   "execution_count": null,
   "id": "ef667fa5",
   "metadata": {},
   "outputs": [],
   "source": [
    "np.bincount(dataSampleD6)"
   ]
  },
  {
   "cell_type": "markdown",
   "id": "14e1e533",
   "metadata": {},
   "source": [
    "### Representing the output\n",
    "\n",
    "We are going to make a few plots to represent the results\n",
    "\n",
    "First lets make a simple plot where we plot the value each roll of the dice"
   ]
  },
  {
   "cell_type": "code",
   "execution_count": null,
   "id": "0f3c60d2",
   "metadata": {},
   "outputs": [],
   "source": [
    "plt.plot(dataSampleD6)\n",
    "plt.ylabel(\"Value\")\n",
    "_ = plt.xlabel(\"Trial Number\")"
   ]
  },
  {
   "cell_type": "markdown",
   "id": "bc2cfbdd",
   "metadata": {},
   "source": [
    "## Questions for discussion:\n",
    "\n",
    "2.1 Is this what you were expecting?\n",
    "\n",
    "2.2 Can you think of a better way to represent the results?"
   ]
  },
  {
   "cell_type": "markdown",
   "id": "529dab0c",
   "metadata": {},
   "source": [
    "### Next exercise, make a plot of the number of occurences of each value"
   ]
  },
  {
   "cell_type": "code",
   "execution_count": null,
   "id": "65b0bd4f",
   "metadata": {},
   "outputs": [],
   "source": [
    "plt.plot(np.bincount(dataSampleD6))\n",
    "plt.ylabel(\"Number of occurences\")\n",
    "_ = plt.xlabel(\"Value\")"
   ]
  },
  {
   "cell_type": "code",
   "execution_count": null,
   "id": "10564e1a",
   "metadata": {},
   "outputs": [],
   "source": [
    "plt.scatter(np.arange(7), np.bincount(dataSampleD6))\n",
    "plt.ylabel(\"Number of occurences\")\n",
    "_ = plt.xlabel(\"Value\")"
   ]
  },
  {
   "cell_type": "markdown",
   "id": "65d6fb5b",
   "metadata": {},
   "source": [
    "### Questions for discussion: \n",
    "\n",
    "#### 3.1 What do you think about how the data are presented in the previous two plots?\n",
    "\n",
    "#### 3.2 How might they be presented more clearly?"
   ]
  },
  {
   "cell_type": "markdown",
   "id": "07c64310",
   "metadata": {},
   "source": [
    "# Histograms, bins, continuous data"
   ]
  },
  {
   "cell_type": "markdown",
   "id": "f2a7ad3e",
   "metadata": {},
   "source": [
    "In the example above we were counting discrete outcomes, (i.e., any one of the 6 possible outcomes of the dice roll).\n",
    "\n",
    "But, a lot of times when we measure something, the outcomes are not discrete, but rather continous.  (E.g., your measurement can result in non-integer values)"
   ]
  },
  {
   "cell_type": "code",
   "execution_count": null,
   "id": "9cbd47bb",
   "metadata": {},
   "outputs": [],
   "source": [
    "dataSample = np.random.uniform(low=0., high=6., size=600)"
   ]
  },
  {
   "cell_type": "code",
   "execution_count": null,
   "id": "9667de79",
   "metadata": {},
   "outputs": [],
   "source": [
    "plt.plot(dataSample)\n",
    "plt.ylabel(\"Value\")\n",
    "_ = plt.xlabel(\"Trial Number\")"
   ]
  },
  {
   "cell_type": "markdown",
   "id": "a1219109",
   "metadata": {},
   "source": [
    "#### Histogram\n",
    "\n",
    "A histogram is essentially chart that counts a number of occurences.  For discrete data, like a dice roll it counts the number of times each discrete outcome occurs.   For continous data, it counts the number of times the outcome was in a set of ranges.  We refer to those ranges as the histogram 'bins'"
   ]
  },
  {
   "cell_type": "code",
   "execution_count": null,
   "id": "00599425",
   "metadata": {},
   "outputs": [],
   "source": [
    "def countContinousResults(data, bins):\n",
    "    indices = np.searchsorted(bins, data) - 1\n",
    "    counters = np.zeros(len(bins)-1, int)\n",
    "    for value in indices:\n",
    "        counters[value] += 1\n",
    "    return counters"
   ]
  },
  {
   "cell_type": "markdown",
   "id": "992e2a01",
   "metadata": {},
   "source": [
    "#### Setting binning\n",
    "\n",
    "We are going to use the numpy.linspace() function to define the bin edges.  \n",
    "numpy.linspace(start, stop, num) returns `num` evenly spaced numbers between `start` and `stop`."
   ]
  },
  {
   "cell_type": "code",
   "execution_count": null,
   "id": "0bac4da0",
   "metadata": {},
   "outputs": [],
   "source": [
    "bins = np.linspace(0, 6, 7)\n",
    "print(bins)"
   ]
  },
  {
   "cell_type": "markdown",
   "id": "7d3c7c98",
   "metadata": {},
   "source": [
    "Now lets count the number off items in each bin"
   ]
  },
  {
   "cell_type": "code",
   "execution_count": null,
   "id": "98871ff9",
   "metadata": {},
   "outputs": [],
   "source": [
    "countContinousResults(dataSample, bins)"
   ]
  },
  {
   "cell_type": "markdown",
   "id": "94d48c40",
   "metadata": {},
   "source": [
    "#### numpy.histogram\n",
    "\n",
    "The function `numpy.histogram` constructions a histogram of some data.  \n",
    "Note: It also return the bins edges as well as the bin contents."
   ]
  },
  {
   "cell_type": "code",
   "execution_count": null,
   "id": "7e67896d",
   "metadata": {},
   "outputs": [],
   "source": [
    "np.histogram(dataSample, bins=bins)"
   ]
  },
  {
   "cell_type": "markdown",
   "id": "046b58cf",
   "metadata": {},
   "source": [
    "### Question for discussion: \n",
    "\n",
    "4.1 There are 6 items in the first array, but 7 items in the second.  Why?"
   ]
  },
  {
   "cell_type": "markdown",
   "id": "d5504f1e",
   "metadata": {},
   "source": [
    "#### matplotlib.hist\n",
    "\n",
    "The matplotlib function `hist` will create and plot a histogram.\n",
    "\n",
    "Note that it returns the bin content, bin edges, and some matplotlib\n",
    "objects used to draw the figure. "
   ]
  },
  {
   "cell_type": "code",
   "execution_count": null,
   "id": "3664b576",
   "metadata": {},
   "outputs": [],
   "source": [
    "plt.xlabel(\"Value\")\n",
    "plt.ylabel(\"Entries [per 1.0 units]\")\n",
    "plt.hist(dataSample, bins=bins)"
   ]
  },
  {
   "cell_type": "code",
   "execution_count": null,
   "id": "3953ed7b",
   "metadata": {},
   "outputs": [],
   "source": [
    "plt.xlabel(\"Value\")\n",
    "plt.ylabel(\"Entries [per 0.5 units]\")\n",
    "plt.hist(dataSample, bins=np.linspace(0, 6, 13))"
   ]
  },
  {
   "cell_type": "markdown",
   "id": "c7fe4a0d",
   "metadata": {},
   "source": [
    "Some things to note about histograms:\n",
    "\n",
    "    1. The y-axis values depend on the bin widths.  Making the bins narrower will decrees the number of entries in each bin\n",
    "    2. Because of this, it is good practice to include the bin width on the y-axis label\n",
    "    3. Particularly when making a histogram of integer quantities you should be care to select the binning to avoid creating visual artifacts.  See the next few slides for examples"
   ]
  },
  {
   "cell_type": "markdown",
   "id": "cf93ae92",
   "metadata": {},
   "source": [
    "### Questions for discussion:\n",
    "\n",
    "5.1 What are wrong with the next two histograms?"
   ]
  },
  {
   "cell_type": "code",
   "execution_count": null,
   "id": "4af9ca81",
   "metadata": {},
   "outputs": [],
   "source": [
    "plt.xlabel(\"Value\")\n",
    "plt.ylabel(\"Entries [per 0.5 units]\")\n",
    "plt.hist(dataSampleD6, bins=bins)"
   ]
  },
  {
   "cell_type": "code",
   "execution_count": null,
   "id": "5f438ac0",
   "metadata": {},
   "outputs": [],
   "source": [
    "plt.xlabel(\"Value\")\n",
    "plt.ylabel(\"Entries [per 0.5 units]\")\n",
    "plt.hist(dataSampleD6, bins=np.linspace(0.5, 6.5, 6))"
   ]
  },
  {
   "cell_type": "markdown",
   "id": "50c54338",
   "metadata": {},
   "source": [
    "### Excercise:\n",
    "\n",
    "E.1 Make a better version of the plot, explain what you did, and include details in your report.\n"
   ]
  },
  {
   "cell_type": "code",
   "execution_count": null,
   "id": "fc27267b",
   "metadata": {},
   "outputs": [],
   "source": [
    "plt.xlim((0.5, 6.5))\n",
    "plt.xlabel(\"Dice Roll\")\n",
    "plt.ylabel(\"Occurrences in 600 Trials\")\n",
    "plt.hist(dataSampleD6, bins=np.linspace(0.5, 6.5, 7))"
   ]
  },
  {
   "cell_type": "code",
   "execution_count": null,
   "id": "964b1a68",
   "metadata": {},
   "outputs": [],
   "source": []
  },
  {
   "cell_type": "code",
   "execution_count": null,
   "id": "e1e33fd0",
   "metadata": {},
   "outputs": [],
   "source": []
  },
  {
   "cell_type": "code",
   "execution_count": null,
   "id": "597c779d",
   "metadata": {},
   "outputs": [],
   "source": []
  }
 ],
 "metadata": {
  "kernelspec": {
   "display_name": "Python 3",
   "language": "python",
   "name": "python3"
  },
  "language_info": {
   "codemirror_mode": {
    "name": "ipython",
    "version": 3
   },
   "file_extension": ".py",
   "mimetype": "text/x-python",
   "name": "python",
   "nbconvert_exporter": "python",
   "pygments_lexer": "ipython3",
   "version": "3.8.10"
  }
 },
 "nbformat": 4,
 "nbformat_minor": 5
}
