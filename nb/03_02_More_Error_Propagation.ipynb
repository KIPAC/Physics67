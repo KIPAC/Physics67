{
 "cells": [
  {
   "cell_type": "markdown",
   "id": "de609a45",
   "metadata": {},
   "source": [
    "# More Propagation of Errors\n",
    "\n",
    "### Goals:\n",
    "\n",
    "1. To use simulated experiments to deepen our understanding of propogation of errors.\n",
    "2. To use visual representations to further deepen our understanding of propogation of errors.\n",
    "\n",
    "### Timing\n",
    "\n",
    "1. Try to finish this notebook in 30-35 minutes\n"
   ]
  },
  {
   "cell_type": "code",
   "execution_count": null,
   "id": "e8f8e8c4",
   "metadata": {},
   "outputs": [],
   "source": [
    "%matplotlib inline\n",
    "import matplotlib.pyplot as plt\n",
    "import numpy as np"
   ]
  },
  {
   "cell_type": "markdown",
   "id": "efad4821",
   "metadata": {},
   "source": [
    "\n",
    "| Function Name            | What it does |\n",
    "| - | - |\n",
    "|    numpy.expand_dims     | Adds a dimension to an array, useful for expanding two 1-D arrays into a 2-D array |\n",
    "| plt.imshow               | Makes a 2D-color plot by taking the values in a 2-D array to set a color scale |\n",
    "| plt.colorbar             | Adds a key corresponding to the color scale, e.g., when using plt.imshow |"
   ]
  },
  {
   "cell_type": "markdown",
   "id": "6b5d54fe",
   "metadata": {},
   "source": [
    "### Visual understanding of propagation of errors\n",
    "\n",
    "Recall that we just simulated the \"distance ladder\" by measuring the area of a desk or table using some objects that we had sitting around.\n",
    "\n",
    "These were the instructions, and the formula for the area of the table.\n",
    "\n",
    "1. Take a card from your wallet or bag, maybe an ID card, or a business card, or a debit card or whatever.\n",
    "2. Estimate the length of the card, in centimeters.  Let's call that $C$.  E.g., for me, I'm using a debit card from my wallet and I estimate $C \\sim 8 {\\rm cm}$.\n",
    "3. Find a book, something that is a few times longer than the card.  Now measure the length of the book using the card.  Let's call that $B$.  E.g., for me, i'm using a Moleskine notebook that was sitting on my desk and I measured $B \\sim 2.5$ cards.\n",
    "4. Now measure the length and width of the table, using the book. Let's call these $l$ and $w.$  For me, I measure $w \\sim 5.1$ and $l \\sim 3.8$ books.\n",
    "5. Now we do the math and estimate the area of the desk. \n",
    "\n",
    "The width of the desk in cm is $(w * B * C)$, the length in cm is  $(l * B * C)$, so the area is\n",
    "\n",
    "$A = (w * B * C)(l * B * C)$ \n",
    "\n",
    "$A = w * l * B^2 * C^2$\n",
    "\n",
    "\n",
    "Then we used the formula below to compute how much variation we expect in $A$ if the input paramters change:\n",
    "\n",
    "$\\sigma_A^2 = (\\frac{\\partial A}{\\partial l} \\delta l)^2 + (\\frac{\\partial A}{\\partial w} \\delta w)^2 + (\\frac{\\partial A}{\\partial B} \\delta B)^2 + (\\frac{\\partial A}{\\partial C} \\delta C)^2$\n",
    "\n",
    "And we arrived at these formula for the uncertainy in the Area of the table, in terms of the uncertainties in the quantities that we actually measured.\n",
    "\n",
    "$\\frac{\\delta A}{A} = \\frac{\\sigma_A}{A} = ((\\frac{\\delta l}{l})^2 + (\\frac{\\delta w}{w})^2 + (2 \\frac{\\delta B}{B})^2 + (2 \\frac{\\delta C}{C})^2)^{1/2}$\n",
    "\n",
    "Where $\\delta A$ is our estimate of the uncertainty of the table, which is what we get by estimating the expected variance $\\sigma_A^2$ of a large set of measurments that were distributed according to the uncertainties on $w, l, B, C$.\n"
   ]
  },
  {
   "cell_type": "markdown",
   "id": "d20d1d4a",
   "metadata": {},
   "source": [
    "# First example, how our estimate of A depends on our measurement of l\n",
    "\n",
    "We are going to run what is often called a \"Toy Simulation\" or a \"Toy Monte Carlo\" (\"Monte Carlo\" is a simulation technique where you generate a bunch of random numbers to simulate a range of possible outcomes).\n",
    "\n",
    "Specifically, we are going to simulation 10000 measurement of the length of the desk, assuming that the come from a \"Gaussian\" or \"Normal\" distribution that is centered on the value that we measured, but that have a standard deviation of 10% of that value.  \n",
    "\n",
    "Then we are going to see what happens to the distribution of outcomes.  I.e., of the measurements of the area of the desk."
   ]
  },
  {
   "cell_type": "code",
   "execution_count": null,
   "id": "8454351b",
   "metadata": {},
   "outputs": [],
   "source": [
    "C_m = 8.\n",
    "B_m = 2.5\n",
    "l_m = 3.8\n",
    "w_m = 5.1\n",
    "A_m = w_m * l_m * B_m**2 * C_m**2\n",
    "print('Area of desk: %0.2f cm^2' % A_m)\n",
    "\n",
    "# let's write a function to do that computation:\n",
    "def deskArea(w, l, B, C):\n",
    "    return w * l * B**2 * C**2"
   ]
  },
  {
   "cell_type": "code",
   "execution_count": null,
   "id": "45502ace",
   "metadata": {},
   "outputs": [],
   "source": [
    "# This function will simulate 10000 measurements with drawn from a Normal distribtuion \n",
    "# The distribtuion is centered at l_m and has standard deviation of 0.1*l_m\n",
    "l_sim = np.random.normal(loc=l_m, scale=0.1*l_m, size=10000)"
   ]
  },
  {
   "cell_type": "code",
   "execution_count": null,
   "id": "9fc1041b",
   "metadata": {},
   "outputs": [],
   "source": [
    "_ = plt.hist(l_sim, bins=np.linspace(0.6*l_m, 1.4*l_m, 81))\n",
    "_ = plt.xlabel(\"Length of desk [in books]\")\n",
    "_ = plt.ylabel(\"Simulated Trials [per bin]\")\n",
    "print(\"Measurements of desk length: %0.2f +- %0.2f [books]\" % (np.mean(l_sim), np.std(l_sim)))"
   ]
  },
  {
   "cell_type": "code",
   "execution_count": null,
   "id": "8a6baec3",
   "metadata": {},
   "outputs": [],
   "source": [
    "_ = plt.hist((l_sim/l_m)-1, bins=np.linspace(-0.4, 0.4, 81))\n",
    "_ = plt.xlabel(r'Fractional Change: $\\Delta l / l$')\n",
    "_ = plt.ylabel(\"Simulated Trials [per bin]\")\n",
    "print(\"Fractional Change: %0.2f +- %0.2f\" % (np.mean((l_sim/l_m)-1), np.std((l_sim/l_m)-1)))"
   ]
  },
  {
   "cell_type": "markdown",
   "id": "78d9d121",
   "metadata": {},
   "source": [
    "### Questions for discussion:\n",
    "\n",
    "#### 3.1  Explain, in your own words, what is being shown in the two plots above.   How does this relate to the uncertainty on the measurement of $l$"
   ]
  },
  {
   "cell_type": "markdown",
   "id": "a6c0d48e",
   "metadata": {},
   "source": [
    "### Now, let's make a figure to show how A depends on l"
   ]
  },
  {
   "cell_type": "code",
   "execution_count": null,
   "id": "4799805f",
   "metadata": {},
   "outputs": [],
   "source": [
    "# Let's make a grid of value of l that covers a wide range around the value that we measured.\n",
    "l_grid = l_m*np.linspace(0.6, 1.4, 81)\n",
    "# And let's compute the Area of each value of l\n",
    "A_from_l = deskArea(w_m, l_grid, B_m, C_m)"
   ]
  },
  {
   "cell_type": "code",
   "execution_count": null,
   "id": "e858ed25",
   "metadata": {},
   "outputs": [],
   "source": [
    "# Now we plot A version l_grid\n",
    "_ = plt.plot(l_grid, A_from_l)\n",
    "_ = plt.ylabel(r'Area of desk [$cm^2$]')\n",
    "_ = plt.xlabel(r'Length of desk [units of books]')"
   ]
  },
  {
   "cell_type": "code",
   "execution_count": null,
   "id": "584f6767",
   "metadata": {},
   "outputs": [],
   "source": [
    "_ = plt.plot((l_grid/l_m)-1, (A_from_l/A_m)-1)\n",
    "_ = plt.ylabel(r'Relative change in area $\\Delta A / A$')\n",
    "_ = plt.xlabel(r'Relative change in length of desk $\\Delta l / l$')"
   ]
  },
  {
   "cell_type": "markdown",
   "id": "a9b540a1",
   "metadata": {},
   "source": [
    "### Questions for discussion:\n",
    "\n",
    "#### 4.1  Explain, again in your own words, what is being shown in the two plots above.  How does this relate to the formula shown above, in particular the formula that includes the partial derivatives?"
   ]
  },
  {
   "cell_type": "markdown",
   "id": "b1ab1a31",
   "metadata": {},
   "source": [
    "### Combining the sets of plots above.\n",
    "\n",
    "The first set of plots show use what range of measurments we might expect for $l$ and $\\frac{\\delta}{l}$.  The second plot shows use how $A$ changes if we change $l$.\n",
    "\n",
    "If we \"combine\" the two plots, we see the range of values that we might expect for $A$, given the uncertaintiy in $l$."
   ]
  },
  {
   "cell_type": "code",
   "execution_count": null,
   "id": "1e963989",
   "metadata": {},
   "outputs": [],
   "source": [
    "fig, (axis0, axis1) = plt.subplots(2, 1, figsize=(4,6))\n",
    "_ = axis0.plot((l_grid/l_m)-1, (A_from_l/A_m)-1)\n",
    "_ = axis1.hist((l_sim/l_m)-1, bins=(l_grid/l_m)-1)\n",
    "_ = axis0.set_ylabel(r'Relative change in area $\\Delta A / A$')\n",
    "_ = axis1.set_ylabel(\"Simulated Trials [per bin]\")\n",
    "_ = axis1.set_xlabel(r'Relative change in length of desk $\\Delta l / l$')"
   ]
  },
  {
   "cell_type": "markdown",
   "id": "457346cd",
   "metadata": {},
   "source": [
    "What we mean when we say that we \"combine\" the two plots, is that for each value of $\\frac{\\Delta l}{l}$ on the x-axis, the top plot tells us the resulting change $\\frac{\\Delta A}{A}$, while the bottom plot tells us how likely that value of $\\frac{\\Delta l}{l}$ is to occur.  \n",
    "\n",
    "So, we see that large changes in $l$ are less likely that small changes.  And the distribution of outcomes from our little simulation give us a sense of the scatter we would expect in $A$."
   ]
  },
  {
   "cell_type": "code",
   "execution_count": null,
   "id": "287cc557",
   "metadata": {},
   "outputs": [],
   "source": [
    "# compute the area for the 10000 \"simulated\" measurements of l\n",
    "A_sim_1 = deskArea(w_m, l_sim, B_m, C_m)\n",
    "_ = plt.hist(A_sim_1, bins=81)\n",
    "_ = plt.xlabel(r'$A [{\\rm cm}^2]$')\n",
    "_ = plt.ylabel(r'Trials [per bin]')\n",
    "print(\"Area of desk: %0.2f +- %0.2f\" % (np.mean(A_sim_1), np.std(A_sim_1)))"
   ]
  },
  {
   "cell_type": "code",
   "execution_count": null,
   "id": "b544ccba",
   "metadata": {},
   "outputs": [],
   "source": [
    "# Here we are going to compute the resulting relative change in A\n",
    "dA_over_A_sim_1 = (A_sim_1 - A_m)/A_m\n",
    "\n",
    "_ = plt.hist(dA_over_A_sim_1, bins=np.linspace(-0.4, 0.4, 81))\n",
    "_ = plt.xlabel(r'$\\Delta A / A$')\n",
    "_ = plt.ylabel(r'Trials [per 0.02]')\n",
    "print(\"Fractional Change: %0.2f +- %0.2f\" % (np.mean(dA_over_A_sim_1), np.std(dA_over_A_sim_1)))"
   ]
  },
  {
   "cell_type": "markdown",
   "id": "c2f30541",
   "metadata": {},
   "source": [
    "### Question for discussion.  \n",
    "\n",
    "#### 5.1 How can we interpret the two plots above?  What does it mean for our estimate of the uncertainty on $A$?"
   ]
  },
  {
   "cell_type": "markdown",
   "id": "5f743d43",
   "metadata": {},
   "source": [
    "# Second example: how our estimate of A depends on C\n",
    "\n",
    "Now we are going to repeat the exercise, but this time we are going to vary $C$, our estimate of the length of the card in cm."
   ]
  },
  {
   "cell_type": "code",
   "execution_count": null,
   "id": "796d7003",
   "metadata": {},
   "outputs": [],
   "source": [
    "C_grid = C_m*np.linspace(0.6, 1.4, 81)\n",
    "C_sim = np.random.normal(loc=C_m, scale=0.1*C_m, size=10000)\n",
    "A_from_C = deskArea(w_m, l_m, B_m, C_m*np.linspace(0.6, 1.4, 81))"
   ]
  },
  {
   "cell_type": "code",
   "execution_count": null,
   "id": "6df0a216",
   "metadata": {},
   "outputs": [],
   "source": [
    "_ = plt.plot((C_m*np.linspace(0.6, 1.4, 81)/C_m)-1, (A_from_C/A_m)-1)\n",
    "_ = plt.ylabel(r'Relative area of desk $\\Delta A / A$')\n",
    "_ = plt.xlabel(r'Relative change in length of card $\\Delta C / C$')\n",
    "_ = plt.plot(np.linspace(-0.2,0.2,11), 2*np.linspace(-0.2,0.2,11), label=\"Tangent at zero\")\n",
    "_ = plt.legend()"
   ]
  },
  {
   "cell_type": "code",
   "execution_count": null,
   "id": "2fc23465",
   "metadata": {},
   "outputs": [],
   "source": [
    "A_sim_2 = deskArea(w_m, l_m, B_m, C_sim)\n",
    "dA_over_A_sim_2 = (A_sim_2 - A_m)/A_m\n",
    "\n",
    "_ = plt.hist(dA_over_A_sim_2, bins=np.linspace(-0.8, 0.8, 81))\n",
    "_ = plt.xlabel(r'$\\Delta A / A$')\n",
    "_ = plt.ylabel(r'Trials [per 0.05]')\n",
    "print(\"Fractional Change: %0.2f +- %0.2f\" % (np.mean(dA_over_A_sim_2), np.std(dA_over_A_sim_2)))"
   ]
  },
  {
   "cell_type": "markdown",
   "id": "67e3ee23",
   "metadata": {},
   "source": [
    "### Questions for discussion.  \n",
    "\n",
    "#### 6.1 How can we interpret the two plots above?  What does it mean for our estimate of the uncertainty on $A$?  \n",
    "#### 6.2 Why does this differ from the results we got when we considered the variation in $A$ due to the variation in $l$?  \n",
    "#### 6.3 Why did we draw the tangent line on the figure a few cells up?   What does the tangent line correspond to in the equation for propagation of errors?"
   ]
  },
  {
   "cell_type": "markdown",
   "id": "4a7a2882",
   "metadata": {},
   "source": [
    "# Third example: how our estimate of A depends on the combination of l and w"
   ]
  },
  {
   "cell_type": "markdown",
   "id": "b2538681",
   "metadata": {},
   "source": [
    "#### First, how does lets see how A depends on changes in w and l.\n",
    "\n",
    "To estimate that, we are going to compute the area for a grid of values of w and l and plot the results.\n",
    "\n",
    "The x and y axes show the changes in w and l, respectively, the color scale shows the resulting change in A.\n",
    "\n",
    "What we see is that if both w and l were higher, the area would be larger, if they were both smaller the area would be smaller, and if one is large and the other smaller the effects tend to cancel.  This is hardly surprising.\n"
   ]
  },
  {
   "cell_type": "code",
   "execution_count": null,
   "id": "e2aef350",
   "metadata": {},
   "outputs": [],
   "source": [
    "relValue = (deskArea(w_m*np.linspace(0.6, 1.4, 81),\n",
    "                     np.expand_dims(l_m*np.linspace(0.6, 1.4, 81), -1), B_m, C_m)/A_m ) - 1.\n",
    "_ = plt.imshow(relValue, origin='lower', extent=(-0.4, 0.4, -0.4, 0.4)) \n",
    "_ = plt.colorbar(label=r'Fractional change $\\Delta A / A$')\n",
    "_ = plt.xlabel(r'Fractional change $\\Delta w / w$')\n",
    "_ = plt.ylabel(r'Fractional change $\\Delta l / l$')"
   ]
  },
  {
   "cell_type": "markdown",
   "id": "4de96022",
   "metadata": {},
   "source": [
    "#### Now lets consider how likely it is that we get particular sets of changes.\n",
    "\n",
    "These plots show the number of times we get a particular set of changes in our simulations.\n",
    "\n",
    "Let's consider changes in both $w$ and $l$, which are independent measurements. "
   ]
  },
  {
   "cell_type": "code",
   "execution_count": null,
   "id": "07e07b96",
   "metadata": {},
   "outputs": [],
   "source": [
    "# We already have l_sim, so we just need w_sim\n",
    "w_sim = np.random.normal(loc=w_m, scale=0.1*w_m, size=10000)"
   ]
  },
  {
   "cell_type": "code",
   "execution_count": null,
   "id": "df330394",
   "metadata": {},
   "outputs": [],
   "source": [
    "_ = plt.hist2d((w_sim/w_m)-1, (l_sim/l_m)-1., bins=np.linspace(-0.4,0.4,25))\n",
    "_ = plt.xlabel(r'Fractional change $\\Delta w / w$')\n",
    "_ = plt.ylabel(r'Fractional change $\\Delta l / l$')\n",
    "_ = plt.colorbar(label=r'Number of simulations [per bin]')"
   ]
  },
  {
   "cell_type": "markdown",
   "id": "67d0f3dd",
   "metadata": {},
   "source": [
    "### Questions for discussion\n",
    "\n",
    "#### 7.1 This plot, and the plot before, are two dimensional versions of the plots what we used to illustrate how changes in one input variable cause changes in the outcome.  Explain these plots, and what we can learn from them, in your own words."
   ]
  },
  {
   "cell_type": "markdown",
   "id": "3f9c7f3d",
   "metadata": {},
   "source": [
    "### Effect of changing both l and w"
   ]
  },
  {
   "cell_type": "code",
   "execution_count": null,
   "id": "1d907405",
   "metadata": {},
   "outputs": [],
   "source": [
    "A_sim_3 = deskArea(w_sim, l_sim, B_m, C_m)\n",
    "dA_over_A_sim_3 = (A_sim_3 - A_m)/A_m\n",
    "\n",
    "_ = plt.hist(dA_over_A_sim_3, bins=np.linspace(-0.8, 0.8, 81))\n",
    "_ = plt.xlabel(r'$\\Delta A / A$')\n",
    "_ = plt.ylabel(r'Trials [per 0.04]')\n",
    "print(\"Fractional Change: %0.2f +- %0.2f\" % (np.mean(dA_over_A_sim_3), np.std(dA_over_A_sim_3)))"
   ]
  },
  {
   "cell_type": "markdown",
   "id": "bf4aead8",
   "metadata": {},
   "source": [
    "### Questions for discussion\n",
    "\n",
    "#### 8.1 Put it all together.  Explain this plot in terms of what we have done and your understanding of propagation of errors.\n",
    "\n",
    "#### Bonus Question.  Use the last example to explain why we add variances in quadrature when estimating errors.  Hint: it involves 1) thinking about the distance from the center of the second color chart to any given point on the chart, and 2) the fact that the plot is circularly symmetric about the center."
   ]
  },
  {
   "cell_type": "code",
   "execution_count": null,
   "id": "f9916097",
   "metadata": {},
   "outputs": [],
   "source": []
  }
 ],
 "metadata": {
  "kernelspec": {
   "display_name": "Python 3 (ipykernel)",
   "language": "python",
   "name": "python3"
  },
  "language_info": {
   "codemirror_mode": {
    "name": "ipython",
    "version": 3
   },
   "file_extension": ".py",
   "mimetype": "text/x-python",
   "name": "python",
   "nbconvert_exporter": "python",
   "pygments_lexer": "ipython3",
   "version": "3.10.0"
  }
 },
 "nbformat": 4,
 "nbformat_minor": 5
}
