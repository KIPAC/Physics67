{
 "cells": [
  {
   "cell_type": "code",
   "execution_count": 1,
   "id": "d9069da7",
   "metadata": {},
   "outputs": [],
   "source": [
    "%matplotlib inline\n",
    "import matplotlib.pyplot as plt\n",
    "import numpy as np"
   ]
  },
  {
   "cell_type": "code",
   "execution_count": 2,
   "id": "1bfa4439",
   "metadata": {},
   "outputs": [],
   "source": [
    "data = np.loadtxt(open(\"../data/Vela_Flux.txt\", 'rb'))\n",
    "\n",
    "date_MET = data[:,0]\n",
    "MET_TO_Unix = 978336000\n",
    "nEvts_obs = data[:,1]\n",
    "nEvts_exp = data[:,2]\n",
    "E_0 = 100\n",
    "E_1 = 800\n",
    "E_2 = 10000\n",
    "\n",
    "E_l = np.sqrt(E_0*E_1)\n",
    "E_h = np.sqrt(E_2*E_1)\n",
    "signif = data[:,3]\n",
    "he_nEvts_obs = data[:,4]\n",
    "he_nEvts_exp = data[:,5]\n",
    "he_signif = data[:,6]"
   ]
  },
  {
   "cell_type": "code",
   "execution_count": 8,
   "id": "9a843d42",
   "metadata": {},
   "outputs": [
    {
     "name": "stdout",
     "output_type": "stream",
     "text": [
      "2145559.0\n",
      "0.0370879470776142\n"
     ]
    }
   ],
   "source": [
    "print(np.sum(nEvts_obs))\n",
    "print(np.sqrt(he_nEvts_obs[0])/he_nEvts_obs[0])"
   ]
  },
  {
   "cell_type": "code",
   "execution_count": null,
   "id": "361f97e8",
   "metadata": {},
   "outputs": [],
   "source": [
    "unix_date = [ datetime.datetime.fromtimestamp(date + MET_TO_Unix ) for date in date_MET]"
   ]
  },
  {
   "cell_type": "code",
   "execution_count": null,
   "id": "6cf04657",
   "metadata": {},
   "outputs": [],
   "source": [
    "_ = plt.errorbar(unix_date, nEvts_obs-nEvts_exp, yerr=np.sqrt(nEvts_exp))"
   ]
  },
  {
   "cell_type": "code",
   "execution_count": null,
   "id": "ace9319c",
   "metadata": {},
   "outputs": [],
   "source": [
    "_ = plt.hist(signif)"
   ]
  },
  {
   "cell_type": "code",
   "execution_count": null,
   "id": "c6dc4041",
   "metadata": {},
   "outputs": [],
   "source": [
    "_ = plt.scatter(unix_date, nEvts_exp)"
   ]
  },
  {
   "cell_type": "code",
   "execution_count": null,
   "id": "6cd06590",
   "metadata": {},
   "outputs": [],
   "source": [
    "_ = plt.scatter((nEvts_obs - nEvts_exp)/np.sqrt(nEvts_obs), signif)"
   ]
  },
  {
   "cell_type": "code",
   "execution_count": null,
   "id": "9458675d",
   "metadata": {},
   "outputs": [],
   "source": [
    "_ = plt.scatter((nEvts_obs - nEvts_exp)/np.sqrt(nEvts_obs) - signif, nEvts_obs)"
   ]
  },
  {
   "cell_type": "code",
   "execution_count": null,
   "id": "d26c5688",
   "metadata": {},
   "outputs": [],
   "source": [
    "signif"
   ]
  },
  {
   "cell_type": "code",
   "execution_count": null,
   "id": "0c0acda7",
   "metadata": {},
   "outputs": [],
   "source": [
    "np.sum(nEvts_obs), np.sum(he_nEvts_obs)"
   ]
  },
  {
   "cell_type": "markdown",
   "id": "855bc1cc",
   "metadata": {},
   "source": [
    "$ \\frac{dN}{dE} = \\int_{E_0}^{E_1} n_{0} (\\frac{E}{E_0})^{-\\Gamma} dE$\n",
    "\n",
    "$ N_{\\rm band} = \\frac{n_{0}}{\\Gamma - 1} ( (\\frac{E_1}{E_0})^{-(\\Gamma - 1)}  - (\\frac{E_0}{E_0})^{-(\\Gamma - 1)} ) = \\frac{n_{0}}{\\Gamma - 1} ( (\\frac{E_1}{E_0})^{-(\\Gamma - 1)}  - 1)$\n",
    "\n",
    "$ N_{\\rm band} \\sim n_{0} ( (\\frac{E_1}{E_0})^{-1}  -  (\\frac{E_0}{E_0})^{-1} ) ) = n_{0} ( (\\frac{E_1}{E_0})^{-1}  - 1)$\n",
    "\n",
    "$ E\\frac{dN}{dE} = \\int_{E_0}^{E_1} n_{0} E_0 (\\frac{E}{E_0})^{-(\\Gamma + 1)}  dE$\n",
    "\n",
    "$ E\\frac{dN}{dE} \\sim \\int_{E_0}^{E_1} n_{0} E_0 (\\frac{E}{E_0})^{-1}  dE$\n",
    "\n",
    "$ E_{\\rm band} \\sim n_{0} E_0 ( \\ln \\frac{E_1}{E_0} - \\ln \\frac{E_0}{E_0} ) = n_{0} E_0 \\ln \\frac{E_1}{E_0}$"
   ]
  },
  {
   "cell_type": "code",
   "execution_count": null,
   "id": "8f68b5bc",
   "metadata": {},
   "outputs": [],
   "source": []
  }
 ],
 "metadata": {
  "kernelspec": {
   "display_name": "Python 3",
   "language": "python",
   "name": "python3"
  },
  "language_info": {
   "codemirror_mode": {
    "name": "ipython",
    "version": 3
   },
   "file_extension": ".py",
   "mimetype": "text/x-python",
   "name": "python",
   "nbconvert_exporter": "python",
   "pygments_lexer": "ipython3",
   "version": "3.8.10"
  }
 },
 "nbformat": 4,
 "nbformat_minor": 5
}
