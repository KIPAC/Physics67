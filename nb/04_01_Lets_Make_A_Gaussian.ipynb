{
 "cells": [
  {
   "cell_type": "code",
   "execution_count": null,
   "id": "5b9093ca",
   "metadata": {},
   "outputs": [],
   "source": [
    "%matplotlib inline\n",
    "import matplotlib.pyplot as plt\n",
    "import numpy as np\n",
    "import scipy.stats as stats"
   ]
  },
  {
   "cell_type": "markdown",
   "id": "3f736990",
   "metadata": {},
   "source": [
    "# Gaussian distribution, aka Normal Distribtuion, aka Bell Curve\n",
    "\n",
    "A Gaussian distritubion is a distribution defined by:\n",
    "\n",
    "$G(x | \\mu, \\sigma) = \\frac{1}{\\sigma\\sqrt{2\\pi}}e^{-\\frac{(x - \\mu)^2}{2\\sigma^2}}$\n",
    "\n",
    "Where the notation $G(x | \\mu, \\sigma)$ means that:\n",
    "\n",
    "The function $G$ depends on $x$, $\\mu$ and $\\sigma$, but typically we provide $\\mu$ and $\\sigma$ to define a specific curve as a function of $x$.\n",
    "\n",
    "$x$ is what we sometimes call the \"indepedent variable\", while $\\mu$ and $\\sigma$ are sometimes called \"parameters\".  Basically each set of values of $\\mu$ and $\\sigma$ defined a different curve.\n"
   ]
  },
  {
   "cell_type": "markdown",
   "id": "56872525",
   "metadata": {},
   "source": [
    "If we take $\\mu = 0$ and $\\sigma = 1$ then to formula simplifies somewhat:\n",
    "\n",
    "$G(x | \\mu=1, \\sigma=1) = \\frac{1}{1\\sqrt{2\\pi}}e^{-\\frac{(x - 0)^2}{2*1^2}} = \\frac{1}{\\sqrt{2\\pi}}e^{-\\frac{x^2}{2}}$"
   ]
  },
  {
   "cell_type": "code",
   "execution_count": null,
   "id": "726b3a46",
   "metadata": {},
   "outputs": [],
   "source": [
    "def gaussian(x, mu=0., sigma=1.):\n",
    "    return np.exp(-((x-mu)/(np.sqrt(2)*sigma))**2)/(sigma*np.sqrt(2*np.pi))"
   ]
  },
  {
   "cell_type": "markdown",
   "id": "444661e7",
   "metadata": {},
   "source": [
    "Let's plot that.  We are going to use the equation I wrote out above, and also the 'scipy.stats.norm' function to do it and then compare the two."
   ]
  },
  {
   "cell_type": "code",
   "execution_count": null,
   "id": "cf7d97c2",
   "metadata": {},
   "outputs": [],
   "source": [
    "x_vals = np.linspace(-6, 6, 601)\n",
    "y_vals_check = gaussian(x_vals, mu=0, sigma=1)\n",
    "# Note that the arguments have different names, and the function is called slightly differently\n",
    "y_vals = stats.norm(loc=0, scale=1).pdf(x_vals)"
   ]
  },
  {
   "cell_type": "code",
   "execution_count": null,
   "id": "7aebd56c",
   "metadata": {},
   "outputs": [],
   "source": [
    "_ = plt.plot(x_vals, y_vals, label=\"stats\")\n",
    "_ = plt.plot(x_vals, y_vals_check, label=\"func\")\n",
    "_ = plt.legend()\n",
    "_ = plt.title(\"My first Gaussian\")\n",
    "_ = plt.xlabel(r'$x$')\n",
    "_ = plt.ylabel(r'$G(x, \\mu=0, \\sigma=1)$')"
   ]
  },
  {
   "cell_type": "markdown",
   "id": "d75bd9d2",
   "metadata": {},
   "source": [
    "### Properties of a Gaussian\n",
    "\n",
    "Some properties of the gaussian we can infer just by examing the formula.\n",
    "\n",
    "1. Since $\\frac{(x-\\mu)^2}{2\\sigma^2}$ is always postive, and there is a minus sign in from on it, the term in the exponent is always zero or negative.  That means the maximum when that term is zero, i.e., when $x = \\mu$, thus, $\\mu$ gives the peak of the distribution.  \n",
    "2. Since $\\frac{(x - \\mu)^2}{2\\sigma}$ is symmetric about $\\mu$, the distribution is symmetric about $\\mu$.  I.e., $G(x = \\mu + a, \\mu, \\sigma) = G(x = \\mu - a, \\mu, \\sigma)$\n",
    "3. The distribution is always positive.  I.e., $e^{-x} > 0$ for all x.\n",
    "4. The distribution goes towards zero pretty quickly if $(x - \\mu)^2$ is bigger than $\\sigma$.  \n",
    "\n",
    "And we can confirm those by looking at the plot. \n",
    "\n",
    "One thing to note:  the peak of the distribution is at $\\frac{1}{\\sqrt{2\\pi}} \\sim 0.4$.  This is to ensure that the integral of the distribution is 1.  \n",
    "\n",
    "$\\int_{-\\infty}^{\\infty} G(x, \\mu, \\sigma) = 1$\n"
   ]
  },
  {
   "cell_type": "markdown",
   "id": "7dded579",
   "metadata": {},
   "source": [
    "### What happens when we change the parameters?\n",
    "\n",
    "First, lets plot a series of Gaussians with different values of $\\mu$.\n",
    "\n",
    "Then we will plot a series of Gaussians with different values of $\\sigma$."
   ]
  },
  {
   "cell_type": "code",
   "execution_count": null,
   "id": "fb449e5f",
   "metadata": {},
   "outputs": [],
   "source": [
    "for mu in np.linspace(-3, 3, 7):\n",
    "    _ = plt.plot(x_vals, gaussian(x_vals, mu=mu), label=\"mu = %0.1f\" % mu)\n",
    "\n",
    "_ = plt.xlabel(r'$x$')\n",
    "_ = plt.ylabel(r'$G(x, \\mu, \\sigma=1)$')\n",
    "_ = plt.legend()"
   ]
  },
  {
   "cell_type": "code",
   "execution_count": null,
   "id": "6a47bd2c",
   "metadata": {},
   "outputs": [],
   "source": [
    "for sigma in np.linspace(0.4, 1.6, 7):\n",
    "    _ = plt.plot(x_vals, gaussian(x_vals, sigma=sigma), label=\"sigma = %0.1f\" % sigma)\n",
    "\n",
    "_ = plt.xlabel(r'$x$')\n",
    "_ = plt.ylabel(r'$G(x, \\mu=0, \\sigma)$')\n",
    "_ = plt.legend()"
   ]
  },
  {
   "cell_type": "markdown",
   "id": "cd0851fb",
   "metadata": {},
   "source": [
    "# Questions for discussion\n",
    "\n",
    "1.1 Why do all the Gaussian in the first example have the same height, while the ones in the second example do not?  Answer both in terms of the formula, and in plain english.\n",
    "\n",
    "1.2 Specifying all three of $x$, $\\mu$ and $\\sigma$ gives you a single value.  Specifying only $\\mu$ and $\\sigma$ give you a curve as a function of $x$.  In your own words, describe why sometimes we might want to be using the whole curve rather than a single value.  "
   ]
  },
  {
   "cell_type": "markdown",
   "id": "c34c677a",
   "metadata": {},
   "source": [
    "# Why a Gaussian?\n",
    "\n",
    "We are learning about Gaussians because they occur all the time in nature.\n",
    "\n",
    "In short a Gaussian distribution is what you get when a lot of random effects add together.\n",
    "\n",
    "We are going to do two different things and show that we get very Gaussian-looking distribtuions.\n",
    "\n",
    "1.  We are going to generate 10000 sets of 12 random numbers between 0 and 1, and add each set together.  This will give use 10000 numbers between 0 and 12, and we will see that their distribution looks a lot like a Gaussian with $\\mu = 6$ and $\\sigma = 1$.\n",
    "\n",
    "2.  We are going to generate 10000 numbers that simulate the \"events\" that we might observe in, on average, we expected to see 100 events.  \"Events\" could be pretty much anything that you can count: nuclear decays, detections of distance supernova, cars passing through an intersection...   This will give use 10000 that are distributed very close to a Gaussian with $\\mu = 100$ and $\\sigma = 10$.\n",
    "\n",
    "3.  We are going to generate 10000 sets of 1000 random numbers between 0 and 1, and count how many numbers in each set are less than 0.1.   This will give use 10000 numbers between 0 and 1000, and we will see that their distribution looks at lot like a Gaussian with $\\mu = 100$ and $\\sigma = 10$."
   ]
  },
  {
   "cell_type": "markdown",
   "id": "91f4bf91",
   "metadata": {},
   "source": [
    "#### A Gaussian as the sum of 12 uniformly distributed numbers between 0 and 1"
   ]
  },
  {
   "cell_type": "code",
   "execution_count": null,
   "id": "c68ed5d7",
   "metadata": {},
   "outputs": [],
   "source": [
    "# This line tells numpy to generate 120000 random numbers betweeen 0 and 1\n",
    "# then to split them into 10000 gropus of 12 \n",
    "randomNumbers = np.random.uniform(size=120000).reshape(10000, 12)\n",
    "# This line takes the sum of each group of 12, giving us a total of 10000 numbers\n",
    "sums = np.sum(randomNumbers, axis=1)\n",
    "print(\"Some numbers are \", sums)\n",
    "print(\"And we have %i numbers total\" % sums.size)"
   ]
  },
  {
   "cell_type": "code",
   "execution_count": null,
   "id": "804ea161",
   "metadata": {},
   "outputs": [],
   "source": [
    "xvals = np.linspace(0,12,121)\n",
    "\n",
    "# Note.  The Gaussian is defined so that it integrates to 1.  But:\n",
    "#  1) We generated 10000 numbers\n",
    "#  2) Our histogram bins are 0.1 units wide.  \n",
    "# So, to get the height of the curve to match the histogram we need to multiply by a prefactor\n",
    "prefactor = 10000 * 0.1\n",
    "_ = plt.hist(sums, bins=xvals)\n",
    "myGauss = prefactor*stats.norm(loc=6, scale=1).pdf(xvals)\n",
    "_ = plt.plot(xvals, myGauss, label=r'$G(x, \\mu=6, \\sigma=1)$')\n",
    "_ = plt.xlabel(r'sum of 12 random numbers[$a.u.$]')\n",
    "_ = plt.ylabel(r'Counts [per $0.1 a.u.$]')\n",
    "_ = plt.legend()\n",
    "_ = plt.annotate(\"mean = %0.2f\" % np.mean(sums), (10,320))\n",
    "_ = plt.annotate(\"std = %0.2f\" % np.std(sums), (10, 300))"
   ]
  },
  {
   "cell_type": "markdown",
   "id": "10a11ae2",
   "metadata": {},
   "source": [
    "# Questions for discussion\n",
    "\n",
    "2.1 Notice in the figure above that the $\\mu$ and $\\sigma$ of the Gaussian are very close to the mean and standard deviation of the distribution of sums.  How do you think these would change if we added together more numbers, say 24 numbers instead of 12 numbers?"
   ]
  },
  {
   "cell_type": "markdown",
   "id": "0faca6b6",
   "metadata": {},
   "source": [
    "#### A Gaussian as the distribution of a number of random occurences\n",
    "\n"
   ]
  },
  {
   "cell_type": "code",
   "execution_count": null,
   "id": "32de7dec",
   "metadata": {},
   "outputs": [],
   "source": [
    "# This line tells numpy to simulate 10000 trials of an expirement \n",
    "#  where on average we expect to see 100 \"events\" in each trial\n",
    "# \"Events\" could be pretty much anything that you can count: \n",
    "# nuclear decays, detections of distance supernova, cars passing through an intersection.  \n",
    "nEvts = np.random.poisson(lam=100, size=10000)\n",
    "# Then this line tells numpy to count how many numbers in each group of 1000 are less that 0.1\n",
    "print(\"Some numbers are \", nEvts)\n",
    "print(\"And we have %i numbers total\" % nEvts.size)"
   ]
  },
  {
   "cell_type": "code",
   "execution_count": null,
   "id": "e3249f99",
   "metadata": {},
   "outputs": [],
   "source": [
    "xvals = np.linspace(50,150,101)\n",
    "_ = plt.hist(nEvts, bins=xvals)\n",
    "# Note.  The Gaussian is defined so that it integrates to 1.  But:\n",
    "#  1) We generated 10000 numbers\n",
    "#  2) Our histogram bins are 1.0 units wide.  \n",
    "# So, to get the height of the curve to match the histogram we need to multiply by 10000\n",
    "myGauss = 10000*stats.norm(loc=100, scale=10).pdf(xvals)\n",
    "_ = plt.xlabel(r'$n_{\\rm evt}$')\n",
    "_ = plt.ylabel(r'Counts [per number]')\n",
    "_ = plt.plot(xvals, myGauss, label=r'$G(x, \\mu=100, \\sigma=10)$')\n",
    "_ = plt.legend()\n",
    "\n",
    "_ = plt.annotate(\"mean = %0.2f\" % np.mean(nEvts), (130,330))\n",
    "_ = plt.annotate(\"std = %0.2f\" % np.std(nEvts), (130, 300))"
   ]
  },
  {
   "cell_type": "markdown",
   "id": "c8708451",
   "metadata": {},
   "source": [
    "# Questions for discussion\n",
    "\n",
    "2.2 Notice in the figure above that the $\\mu$ and $\\sigma$ of the Gaussian are very close to the mean and standard deviation of the distribution of $n_{\\rm evt}$.  How do you think these would change if we set a higher average number of events per trial?"
   ]
  },
  {
   "cell_type": "markdown",
   "id": "8fb1a3b8",
   "metadata": {},
   "source": [
    "#### A Gaussian as the distribution of a number of random values passing a selection\n",
    "\n",
    "This is pretty similar to the previous example, but not quite the same.  In this case we are going to simulate 10000 gropus "
   ]
  },
  {
   "cell_type": "code",
   "execution_count": null,
   "id": "785a1074",
   "metadata": {},
   "outputs": [],
   "source": [
    "# This line tells numpy to simulate 10000 groups of 1000 numbers randomly distributed \n",
    "#  between 0 and 1, and select the ones that are > 0.9.\n",
    "#  So, on average we expect to see 100 \"passing\" in each trial\n",
    "nPass = np.sum((np.random.uniform(size=10000000).reshape(10000, 1000) > 0.9), axis=1)\n",
    "# Then this line tells numpy to count how many numbers in each group of 1000 are less that 0.1\n",
    "print(\"Some numbers are \", nPass)\n",
    "print(\"And we have %i numbers total\" % nPass.size)"
   ]
  },
  {
   "cell_type": "code",
   "execution_count": null,
   "id": "3d76d113",
   "metadata": {},
   "outputs": [],
   "source": [
    "xvals = np.linspace(50,150,101)\n",
    "_ = plt.hist(nPass, bins=xvals)\n",
    "# Note.  The Gaussian is defined so that it integrates to 1.  But:\n",
    "#  1) We generated 10000 numbers\n",
    "#  2) Our histogram bins are 1.0 units wide.  \n",
    "# So, to get the height of the curve to match the histogram we need to multiply by 10000\n",
    "myGauss = 10000*stats.norm(loc=100, scale=10).pdf(xvals)\n",
    "_ = plt.xlabel(r'$n_{\\rm evt}$')\n",
    "_ = plt.ylabel(r'Counts [per number]')\n",
    "_ = plt.plot(xvals, myGauss, label=r'$G(x, \\mu=100, \\sigma=10)$')\n",
    "_ = plt.legend()\n",
    "\n",
    "_ = plt.annotate(\"mean = %0.2f\" % np.mean(nPass), (130,330))\n",
    "_ = plt.annotate(\"std = %0.2f\" % np.std(nPass), (130, 300))"
   ]
  },
  {
   "cell_type": "markdown",
   "id": "91f6673a",
   "metadata": {},
   "source": [
    "## Note:\n",
    "\n",
    "If you look carefully at the previous curve, you will see that the distribution is actually a bit narrower than the corresponding Gaussian.  And if you look very closely, you might seem that it is a bit skewed, the curve match better on the high side than on the low side. \n",
    "\n",
    "We will talk about why this is in a few weeks.  But for now, it is just a good reminder that:\n",
    "\n",
    "1. Not every random process will produce a Gaussian distribution.\n",
    "2. But there are process that, under some circumstances, will produce things distributions that are fairly close to Gaussian."
   ]
  },
  {
   "cell_type": "code",
   "execution_count": null,
   "id": "1a8dd5f2",
   "metadata": {},
   "outputs": [],
   "source": []
  }
 ],
 "metadata": {
  "kernelspec": {
   "display_name": "Python 3",
   "language": "python",
   "name": "python3"
  },
  "language_info": {
   "codemirror_mode": {
    "name": "ipython",
    "version": 3
   },
   "file_extension": ".py",
   "mimetype": "text/x-python",
   "name": "python",
   "nbconvert_exporter": "python",
   "pygments_lexer": "ipython3",
   "version": "3.8.10"
  }
 },
 "nbformat": 4,
 "nbformat_minor": 5
}
