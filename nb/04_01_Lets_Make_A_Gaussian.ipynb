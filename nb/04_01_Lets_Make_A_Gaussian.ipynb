{
 "cells": [
  {
   "cell_type": "code",
   "execution_count": null,
   "id": "5b9093ca",
   "metadata": {},
   "outputs": [],
   "source": [
    "%matplotlib inline\n",
    "import matplotlib.pyplot as plt\n",
    "import numpy as np\n",
    "import scipy.stats as stats"
   ]
  },
  {
   "cell_type": "code",
   "execution_count": null,
   "id": "726b3a46",
   "metadata": {},
   "outputs": [],
   "source": [
    "def gaussian(x, mu=0., sigma=1.):\n",
    "    return np.exp(-((x-mu)/(np.sqrt(2)*sigma))**2)/(sigma*np.sqrt(2*np.pi))"
   ]
  },
  {
   "cell_type": "markdown",
   "id": "3f736990",
   "metadata": {},
   "source": [
    "# Gaussian distribution, aka Normal Distribtuion, aka Bell Curve\n",
    "\n",
    "A Gaussian distritubion is a distribution defined by:\n",
    "\n",
    "$G(x | \\mu, \\sigma) = \\frac{1}{\\sigma\\sqrt{2\\pi}}e^{-\\frac{(x - \\mu)^2}{2\\sigma^2}}$\n",
    "\n",
    "Where the notation $G(x | \\mu, \\sigma)$ means that:\n",
    "\n",
    "The function $G$ depends on $x$, $\\mu$ and $\\sigma$.\n",
    "\n",
    "$x$ is what we sometimes call the \"indepedent variable\", while $\\mu$ and $\\sigma$ are sometimes called \"parameters\".  Basically each set of values of $\\mu$ and $\\sigma$ defined a different curve.\n",
    "\n",
    "Some properties of the gaussian we can infer just by examing the formula.\n",
    "\n"
   ]
  },
  {
   "cell_type": "markdown",
   "id": "56872525",
   "metadata": {},
   "source": [
    "If we take $\\mu = 0$ and $\\sigma = 1$ then to formula simplifies somewhat:\n",
    "\n",
    "$G(x | \\mu=1, \\sigma=1) = \\frac{1}{1\\sqrt{2\\pi}}e^{-\\frac{(x - 0)^2}{2*1^2}} = \\frac{1}{\\sqrt{2\\pi}}e^{-\\frac{x^2}{2}}$"
   ]
  },
  {
   "cell_type": "markdown",
   "id": "444661e7",
   "metadata": {},
   "source": [
    "Let's plot that.  We are going to use the equation I wrote out above, and also the 'scipy.stats.norm' function to do it and then compare the two."
   ]
  },
  {
   "cell_type": "code",
   "execution_count": null,
   "id": "cf7d97c2",
   "metadata": {},
   "outputs": [],
   "source": [
    "x_vals = np.linspace(-6, 6, 601)\n",
    "y_vals_check = gaussian(x_vals, mu=0, sigma=1)\n",
    "# Note that the arguments have different names, and the function is called slightly differently\n",
    "y_vals = stats.norm(loc=0, scale=1).pdf(x_vals)"
   ]
  },
  {
   "cell_type": "code",
   "execution_count": null,
   "id": "7aebd56c",
   "metadata": {},
   "outputs": [],
   "source": [
    "_ = plt.plot(x_vals, y_vals, label=\"stats\")\n",
    "_ = plt.plot(x_vals, y_vals_check, label=\"func\")\n",
    "_ = plt.legend()\n",
    "_ = plt.title(\"My first Gaussian\")\n",
    "_ = plt.xlabel(r'$x$')\n",
    "_ = plt.ylabel(r'$G(x, \\mu=0, \\sigma=1)$')"
   ]
  },
  {
   "cell_type": "markdown",
   "id": "d75bd9d2",
   "metadata": {},
   "source": [
    "Some properties of the gaussian we can infer just by examing the formula.\n",
    "\n",
    "1. Since $\\frac{(x-\\mu)^2}{2\\sigma^2}$ is always postive, and there is a minus sign in from on it, the term in the exponent is always zero or negative.  That means the maximum when that term is zero, i.e., when $x = \\mu$, thus, $\\mu$ gives the peak of the distribution.  \n",
    "2. Since $\\frac{(x - \\mu)^2}{2\\sigma}$ is symmetric about $\\mu$, the distribution is symmetric about $\\mu$.  I.e., $G(x = \\mu + a, \\mu, \\sigma) = G(x = \\mu - a, \\mu, \\sigma)$\n",
    "3. The distribution is always positive.  I.e., $e^{-x} > 0$ for all x.\n",
    "4. The distribution goes towards zero pretty quickly if $(x - \\mu)^2$ is bigger than $\\sigma$.  \n",
    "\n",
    "And we can confirm those by looking at the plot. \n",
    "\n",
    "One thing to note:  the peak of the distribution is at $\\frac{1}{\\sqrt{2\\pi}} \\sim 0.4$.  This is to ensure that the integral of the distribution is 1.  \n",
    "\n",
    "$\\int_{-\\infty}^{\\infty} G(x, \\mu, \\sigma) = 1$\n"
   ]
  },
  {
   "cell_type": "code",
   "execution_count": null,
   "id": "fb449e5f",
   "metadata": {},
   "outputs": [],
   "source": [
    "for mu in np.linspace(-3, 3, 7):\n",
    "    _ = plt.plot(x_vals, gaussian(x_vals, mu=mu), label=\"mu = %0.1f\" % mu)\n",
    "\n",
    "_ = plt.xlabel(r'$x$')\n",
    "_ = plt.ylabel(r'$G(x, \\mu, \\sigma=1)$')\n",
    "_ = plt.legend()"
   ]
  },
  {
   "cell_type": "code",
   "execution_count": null,
   "id": "6a47bd2c",
   "metadata": {},
   "outputs": [],
   "source": [
    "for sigma in np.linspace(0.4, 1.6, 7):\n",
    "    _ = plt.plot(x_vals, gaussian(x_vals, sigma=sigma), label=\"sigma = %0.1f\" % sigma)\n",
    "\n",
    "_ = plt.xlabel(r'$x$')\n",
    "_ = plt.ylabel(r'$G(x, \\mu=0, \\sigma)$')\n",
    "_ = plt.legend()"
   ]
  },
  {
   "cell_type": "markdown",
   "id": "c34c677a",
   "metadata": {},
   "source": [
    "# Why a Gaussian\n",
    "\n",
    "We are learning about Gaussians because they occur all the time in nature.\n",
    "\n",
    "In short a Gaussian distribution is what you get when a lot of random effects add together.\n",
    "\n",
    "We are going to do two different things and show that we get very Gaussian-looking distribtuions.\n",
    "\n",
    "1.  We are going to generate 10000 sets of 12 random numbers between 0 and 1, and add each set together.  This will give use 10000 numbers between 0 and 12, and we will see that their distribution looks a lot like a Gaussian with $\\mu = 6$ and $\\sigma = 1$.\n",
    "\n",
    "2.  We are going generate 10000 sets of 1000 random numbers between 0 and 1, and count how many numbers in each set are less than 0.1.   This will give use 10000 numbers between 0 and 1000, and we will see that their distribution looks at lot like a Gaussian with $\\mu = 100$ and $\\sigma = 10$."
   ]
  },
  {
   "cell_type": "code",
   "execution_count": null,
   "id": "c68ed5d7",
   "metadata": {},
   "outputs": [],
   "source": [
    "# This line tells numpy to generate 120000 random numbers betweeen 0 and 1\n",
    "# then to split them into 10000 gropus of 12 \n",
    "randomNumbers = np.random.uniform(size=120000).reshape(10000, 12)\n",
    "# This line takes the sum of each group of 12, giving us a total of 10000 numbers\n",
    "sums = np.sum(randomNumbers, axis=1)\n",
    "print(\"Some numbers are \", sums)\n",
    "print(\"And we have %i numbers total\" % sums.size)"
   ]
  },
  {
   "cell_type": "code",
   "execution_count": null,
   "id": "804ea161",
   "metadata": {},
   "outputs": [],
   "source": [
    "xvals = np.linspace(0,12,121)\n",
    "\n",
    "# Note.  The Gaussian is defined so that it integrates to 1.  But:\n",
    "#  1) We generated 10000 numbers\n",
    "#  2) Our histogram bins are 0.1 units wide.  \n",
    "# So, to get the height of the curve to match the histogram we need to multiply by a prefactor\n",
    "prefactor = 10000 * 0.1\n",
    "_ = plt.hist(sums, bins=xvals)\n",
    "myGauss = prefactor*stats.norm(loc=6, scale=1).pdf(xvals)\n",
    "_ = plt.plot(xvals, myGauss, label=r'$G(x, \\mu=6, \\sigma=1)$')\n",
    "_ = plt.xlabel(r'sum of 12 random numbers[$a.u.$]')\n",
    "_ = plt.ylabel(r'Counts [per $0.1 a.u.$]')\n",
    "_ = plt.legend()"
   ]
  },
  {
   "cell_type": "code",
   "execution_count": null,
   "id": "32de7dec",
   "metadata": {},
   "outputs": [],
   "source": [
    "# This line tells numpy to generate 10000000 random numbers betweeen 0 and 1\n",
    "# Then to split them into 10000 groups of 1000 each\n",
    "randomNumbers = np.random.uniform(size=10000000).reshape(10000, 1000)\n",
    "# Then this line tells numpy to count how many numbers in each group of 1000 are less that 0.1\n",
    "nPass = np.sum(randomNumbers < 0.1, axis=1)\n",
    "print(\"Some numbers are \", nPass)\n",
    "print(\"And we have %i numbers total\" % nPass.size)"
   ]
  },
  {
   "cell_type": "code",
   "execution_count": null,
   "id": "e3249f99",
   "metadata": {},
   "outputs": [],
   "source": [
    "xvals = np.linspace(50,150,101)\n",
    "_ = plt.hist(nPass, bins=xvals)\n",
    "# Note.  The Gaussian is defined so that it integrates to 1.  But:\n",
    "#  1) We generated 10000 numbers\n",
    "#  2) Our histogram bins are 1.0 units wide.  \n",
    "# So, to get the height of the curve to match the histogram we need to multiply by 10000\n",
    "myGauss = 10000*stats.norm(loc=100, scale=10).pdf(xvals)\n",
    "_ = plt.plot(xvals, myGauss)\n",
    "_ = plt.xlabel(r'Number of values with $x < 0.1$')\n",
    "_ = plt.ylabel(r'Counts [per number]')\n",
    "_ = plt.plot(xvals, myGauss, label=r'$G(x, \\mu=100, \\sigma=10)$')\n",
    "_ = plt.legend()"
   ]
  },
  {
   "cell_type": "code",
   "execution_count": null,
   "id": "773ffc0f",
   "metadata": {},
   "outputs": [],
   "source": []
  },
  {
   "cell_type": "code",
   "execution_count": null,
   "id": "d6ed3cd1",
   "metadata": {},
   "outputs": [],
   "source": []
  }
 ],
 "metadata": {
  "kernelspec": {
   "display_name": "Python 3",
   "language": "python",
   "name": "python3"
  },
  "language_info": {
   "codemirror_mode": {
    "name": "ipython",
    "version": 3
   },
   "file_extension": ".py",
   "mimetype": "text/x-python",
   "name": "python",
   "nbconvert_exporter": "python",
   "pygments_lexer": "ipython3",
   "version": "3.8.10"
  }
 },
 "nbformat": 4,
 "nbformat_minor": 5
}
