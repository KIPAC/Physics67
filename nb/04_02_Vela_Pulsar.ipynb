{
 "cells": [
  {
   "cell_type": "code",
   "execution_count": null,
   "id": "9a58cdff",
   "metadata": {},
   "outputs": [],
   "source": [
    "%matplotlib inline\n",
    "import matplotlib.pyplot as plt\n",
    "import numpy as np\n",
    "import scipy.stats as stats\n",
    "import datetime"
   ]
  },
  {
   "cell_type": "code",
   "execution_count": null,
   "id": "ed140a56",
   "metadata": {},
   "outputs": [],
   "source": []
  },
  {
   "cell_type": "code",
   "execution_count": null,
   "id": "142d2331",
   "metadata": {},
   "outputs": [],
   "source": [
    "data = np.loadtxt(open(\"../data/Vela_Flux.txt\", 'rb'), usecols=range(7))\n",
    "\n",
    "# This is how we pull out the data from columns in the array.\n",
    "\n",
    "# This is the date in \"Mission Elapsesd Time\"\n",
    "# For the Fermi mission, this is defined to be the number of seconds since the start of 2001.\n",
    "date_MET = data[:,0]\n",
    "# This is the offset in seconds between the Fermi \"MET\" and the UNIX \"epoch\" used by matplotlib\n",
    "MET_To_Unix = 978336000\n",
    "\n",
    "# These are the numbers of photons observed from Vela each week in the \"low\" Energy Band (100 MeV - 800 MeV)\n",
    "nObs_LE = data[:,1]\n",
    "\n",
    "# These are the number of photons expected from Vela each week, under the assumption that it is \n",
    "# not varying at all, and the only differences depend on how long we spent looking at Vela\n",
    "# that particular weeek\n",
    "nExp_LE = data[:,2]\n",
    "\n",
    "# These are the band bounds, in MeV\n",
    "LE_bounds = (100., 800.)\n",
    "\n",
    "# This is the \"significance\" of the variation for each week.  We will discuss this more later\n",
    "signif_LE = data[:,3]\n",
    "\n",
    "#nObs_HE = data[:,4]\n",
    "#nExp_HE = data[:,5]\n",
    "#signif_HE = data[:6]\n",
    "#HE_bounds = (800., 10000.)\n",
    "\n",
    "dates = [datetime.datetime.fromtimestamp(date + MET_To_Unix) for date in date_MET]\n"
   ]
  },
  {
   "cell_type": "code",
   "execution_count": null,
   "id": "78cc02d3",
   "metadata": {},
   "outputs": [],
   "source": [
    "_ = plt.scatter(dates, nObs_LE)\n",
    "_ = plt.xlabel(\"Date [year]\")\n",
    "_ = plt.ylabel(r\"$n_{\\rm obs}$ [per week]\")"
   ]
  },
  {
   "cell_type": "code",
   "execution_count": null,
   "id": "fc624843",
   "metadata": {},
   "outputs": [],
   "source": [
    "_ = plt.scatter(dates, nExp_LE)\n",
    "_ = plt.xlabel(\"Date [year]\")\n",
    "_ = plt.ylabel(r\"$n_{\\rm exp}$ [per week]\")"
   ]
  },
  {
   "cell_type": "code",
   "execution_count": null,
   "id": "ad71907c",
   "metadata": {},
   "outputs": [],
   "source": [
    "_ = plt.scatter(nExp_LE, nObs_LE)\n",
    "_ = plt.xlabel(r\"$n_{\\rm exp}$ [per week]\")\n",
    "_ = plt.ylabel(r\"$n_{\\rm obs}$ [per week]\")"
   ]
  },
  {
   "cell_type": "code",
   "execution_count": null,
   "id": "a1e0d65a",
   "metadata": {},
   "outputs": [],
   "source": [
    "_ = plt.hist(nObs_LE/nExp_LE)"
   ]
  },
  {
   "cell_type": "code",
   "execution_count": null,
   "id": "bf5b050e",
   "metadata": {},
   "outputs": [],
   "source": [
    "_ = plt.scatter(dates, nObs_LE-nExp_LE)"
   ]
  },
  {
   "cell_type": "code",
   "execution_count": null,
   "id": "ca427b62",
   "metadata": {},
   "outputs": [],
   "source": [
    "sigma_nObs_LE = np.sqrt(nObs_LE)"
   ]
  },
  {
   "cell_type": "code",
   "execution_count": null,
   "id": "28fe9bb3",
   "metadata": {},
   "outputs": [],
   "source": [
    "_ = plt.scatter(dates, (nObs_LE-nExp_LE)/sigma_nObs_LE)"
   ]
  },
  {
   "cell_type": "code",
   "execution_count": null,
   "id": "48c99deb",
   "metadata": {},
   "outputs": [],
   "source": [
    "_ = plt.hist((nObs_LE-nExp_LE)/sigma_nObs_LE, bins=np.linspace(-4,4,41))\n",
    "nWeeks = len(nObs_LE)\n",
    "myGauss = nWeeks*0.2*stats.norm(loc=0, scale=1).pdf(np.linspace(-4,4,401))\n",
    "_ = plt.plot(np.linspace(-4,4,401), myGauss)"
   ]
  },
  {
   "cell_type": "code",
   "execution_count": null,
   "id": "4318eacf",
   "metadata": {},
   "outputs": [],
   "source": [
    "_ = plt.plot(np.linspace(-4,4,401), stats.norm(loc=0, scale=1).cdf(np.linspace(-4,4,401)))"
   ]
  },
  {
   "cell_type": "code",
   "execution_count": null,
   "id": "4327de46",
   "metadata": {},
   "outputs": [],
   "source": [
    "_ = plt.hist(stats.norm(loc=0, scale=1).cdf(signif_LE))"
   ]
  },
  {
   "cell_type": "code",
   "execution_count": null,
   "id": "5beda686",
   "metadata": {},
   "outputs": [],
   "source": [
    "_ = plt.hist(stats.chi2(1).sf(signif_LE*signif_LE), bins=np.linspace(0, 1, 11))"
   ]
  },
  {
   "cell_type": "code",
   "execution_count": null,
   "id": "b48676f1",
   "metadata": {},
   "outputs": [],
   "source": [
    "blz_data = np.loadtxt(open(\"../data/UNID_Flux.txt\", 'rb'), usecols=range(7))\n",
    "\n",
    "# This is how we pull out the data from columns in the array.\n",
    "\n",
    "# This is the date in \"Mission Elapsesd Time\"\n",
    "# For the Fermi mission, this is defined to be the number of seconds since the start of 2001.\n",
    "blz_date_MET = blz_data[:,0]\n",
    "\n",
    "# These are the numbers of photons observed from Vela each week in the \"low\" Energy Band (100 MeV - 800 MeV)\n",
    "blz_nObs_LE = blz_data[:,1]\n",
    "\n",
    "# These are the number of photons expected from Vela each week, under the assumption that it is \n",
    "# not varying at all, and the only differences depend on how long we spent looking at Vela\n",
    "# that particular weeek\n",
    "blz_nExp_LE = blz_data[:,2]\n",
    "\n",
    "# This is the \"significance\" of the variation for each week.  We will discuss this more later\n",
    "blz_signif_LE = blz_data[:,3]\n",
    "\n",
    "blz_dates = [datetime.datetime.fromtimestamp(date + MET_To_Unix) for date in blz_date_MET]\n",
    "blz_sigma_nObs_LE = np.sqrt(blz_nObs_LE)"
   ]
  },
  {
   "cell_type": "code",
   "execution_count": null,
   "id": "102b3efe",
   "metadata": {},
   "outputs": [],
   "source": [
    "_ = plt.hist(blz_signif_LE, bins=np.linspace(-10, 40, 51))\n",
    "_ = plt.plot(np.linspace(-4,4,401), 5*myGauss)"
   ]
  },
  {
   "cell_type": "code",
   "execution_count": null,
   "id": "e83e376b",
   "metadata": {},
   "outputs": [],
   "source": []
  },
  {
   "cell_type": "code",
   "execution_count": null,
   "id": "d1cda994",
   "metadata": {},
   "outputs": [],
   "source": [
    "_ = plt.errorbar(blz_dates, blz_nObs_LE-blz_nExp_LE, yerr=blz_sigma_nObs_LE, fmt='.')"
   ]
  },
  {
   "cell_type": "code",
   "execution_count": null,
   "id": "44fd3419",
   "metadata": {},
   "outputs": [],
   "source": [
    "_ = plt.errorbar(blz_dates, blz_nObs_LE-blz_nExp_LE, yerr=blz_sigma_nObs_LE, fmt='.')\n",
    "_ = plt.ylim(-100, 100)"
   ]
  },
  {
   "cell_type": "code",
   "execution_count": null,
   "id": "8ca07f41",
   "metadata": {},
   "outputs": [],
   "source": [
    "blz_nObs_LE"
   ]
  },
  {
   "cell_type": "code",
   "execution_count": null,
   "id": "ff1b9a59",
   "metadata": {},
   "outputs": [],
   "source": []
  }
 ],
 "metadata": {
  "kernelspec": {
   "display_name": "Python 3",
   "language": "python",
   "name": "python3"
  },
  "language_info": {
   "codemirror_mode": {
    "name": "ipython",
    "version": 3
   },
   "file_extension": ".py",
   "mimetype": "text/x-python",
   "name": "python",
   "nbconvert_exporter": "python",
   "pygments_lexer": "ipython3",
   "version": "3.8.10"
  }
 },
 "nbformat": 4,
 "nbformat_minor": 5
}
