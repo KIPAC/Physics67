{
 "cells": [
  {
   "cell_type": "markdown",
   "id": "ef323bcc",
   "metadata": {},
   "source": [
    "# Introduction to Correlations and Covariance\n",
    "\n",
    "### Goals:\n",
    "\n",
    "1. To develop intuition for correlation with visual examples.\n",
    "2. To understand how a \"covariance matrix\" encodes infomation about correlations.\n",
    "3. To understand the different between \"covariance\" and \"correlation\" and the advantages and disadvantages of each.\n",
    "4. To deepen out understanding with examples of quantities that are highly correlated and quantities that are uncorrelated.\n",
    "\n",
    "### Timing\n",
    "\n",
    "1. Try to finish this notebook in 25-30 minutes. \n",
    "\n",
    "### Question and Answer Template\n",
    "\n",
    "You can go to the link below, and do \"file\" -> \"make a copy\" to make yourself a google doc that you can use to fill in the answers to the question in this weeks notebooks.\n",
    "\n",
    "https://docs.google.com/document/d/1CRDavwRu1C37xg2_VFTXRthc-K03MIzdrciGSMwUf1g/edit?usp=sharing"
   ]
  },
  {
   "cell_type": "code",
   "execution_count": 1,
   "id": "ebfed2f6",
   "metadata": {},
   "outputs": [],
   "source": [
    "%matplotlib inline\n",
    "import matplotlib.pyplot as plt\n",
    "import numpy as np\n",
    "import scipy.stats as stats\n",
    "import scipy.optimize as optimize\n",
    "import datetime"
   ]
  },
  {
   "cell_type": "markdown",
   "id": "64debd36",
   "metadata": {},
   "source": [
    "### New functions we will use in this module\n",
    "\n",
    "| Function Name            | What it does |\n",
    "| - | - |\n",
    "| plt.figure               | Make a matplotlib figure, useful for making figures with subplots |\n",
    "| fig.subplots             | Makes subplots for a figure |\n",
    "| np.cov                   | Compute the covariance matrix between multiple data series |\n",
    "| np.corrcoef              | Compute the correlation coefficient between multiple data series |"
   ]
  },
  {
   "cell_type": "markdown",
   "id": "a4112bc9",
   "metadata": {},
   "source": [
    "# Important:  don't spend too much time on this notebook\n",
    "\n",
    "We've kept the questions in this notebook down to a minimum.  While there are a couple of new concepts here, the second notebook has a lot more new concepts.   "
   ]
  },
  {
   "cell_type": "markdown",
   "id": "51e0788d",
   "metadata": {},
   "source": [
    "### Variances and covariances:\n",
    "\n",
    "The variance is a measure of the scatter of a quantity.\n",
    "\n",
    "$\\sigma^2 = \\frac{\\sum_i (x_i - \\mu_x)}{n}^2$\n",
    "\n",
    "Where $\\mu_x$ is the mean of the measurements $\\mu_x = \\frac{\\sum_i x_i}{n}$\n",
    "\n",
    "The covariance is a measure of how variations in one quantity match variations in a second quantity.  \n",
    "\n",
    "The equation for the covariance is quite similar to the equation for the variance. Suppose that each data point has has two quantities that describe it, $(x_{i},y_{i})$. (In other words, it's a data point in a multi-dimensional space.) Then the equation for the covariance is:\n",
    "\n",
    "$\\sigma_{xy} = \\frac{\\sum_i (x_i - \\mu_x) (y_i - \\mu_y)}{n}$\n",
    "\n",
    "I.e., we replace one of the factors of $(x_i - \\mu_x)$ with $(y_i - \\mu_y)$.\n",
    "\n",
    "A couple of things to notice about the correlation:\n",
    "\n",
    "1. If, for a given pair of values, both $x$ and $y$ have the same sign, (i.e., they are both above or below the average, then $(x_i - \\mu_x) (y_i - \\mu_y)$ will be greater than zero.  Conversely, if they have opposite signs, then $(x_i - \\mu_x) (y_i - \\mu_y)$ will be less than zero.   Thus, the covariance can be either positive or negative.\n",
    "\n",
    "2. Pairs of values where the absolute values $|(x_i - \\mu_x)|$ and $|(y_i - \\mu_y)|$ are both large will contribute a lot to the covariance.  Pairs where one of the values is very close to the mean will contribute very little.\n",
    "\n",
    "Because the equations for the variance and covariance are so similar, we often compute both the variances and covariances at the same time and put all the results in an array or matrix.\n"
   ]
  },
  {
   "cell_type": "markdown",
   "id": "495e48db",
   "metadata": {},
   "source": [
    "### Let's make a couple of functions to simulate 2D with different levels of correlations\n",
    "\n",
    "The draw_2d_gaussian function above draws data from a pair of gaussians with:\n",
    "\n",
    "$\\mu_x = \\mu_y = 0$  -> means of Gaussians, (they are both centered at zero)\n",
    "\n",
    "$\\sigma_{xx}$ -> variance of Gaussian for variable x\n",
    "\n",
    "$\\sigma_{yy}$ -> variance of Gaussian for variable y\n",
    "\n",
    "$\\sigma_{xy}$ -> covariance of Gaussian for variables x and y\n",
    "\n",
    "You can safely ignore the details of the functions.  This point here is to visualize the resulting scatter plots and measure the covariances.\n"
   ]
  },
  {
   "cell_type": "code",
   "execution_count": 2,
   "id": "fa0474db",
   "metadata": {},
   "outputs": [],
   "source": [
    "def gen_2d_gaussian(n, sigma_xx, sigma_yy, sigma_xy):\n",
    "    \n",
    "    K_0 = np.array([[sigma_xx, sigma_xy],[sigma_xy, sigma_yy]])\n",
    "    epsilon = 0.0001\n",
    "    K = K_0 + epsilon*np.identity(2)\n",
    "    L = np.linalg.cholesky(K)\n",
    "    u = np.random.normal(size=2*n).reshape(2, n)\n",
    "    x = np.dot(L, u)\n",
    "    return x"
   ]
  },
  {
   "cell_type": "code",
   "execution_count": 3,
   "id": "d0f7d2d8",
   "metadata": {},
   "outputs": [],
   "source": [
    "def draw_2d_gaussian(axes, n, sigma_xx, sigma_yy, sigma_xy):\n",
    "    vals = gen_2d_gaussian(n, sigma_xx, sigma_yy, sigma_xy)\n",
    "    _ = axes.set_xlim(-5, 5)\n",
    "    _ = axes.set_ylim(-5, 5)\n",
    "    _ = axes.scatter(vals[0], vals[1])\n",
    "    return vals"
   ]
  },
  {
   "cell_type": "markdown",
   "id": "58e1059a",
   "metadata": {},
   "source": [
    "### Effect of changing the covariance, $\\sigma_{xy}$.\n",
    "\n",
    "Let's make 4 plots with unit variances and with 4 different values of the covariance."
   ]
  },
  {
   "cell_type": "code",
   "execution_count": 4,
   "id": "2cfe1a12",
   "metadata": {
    "scrolled": true
   },
   "outputs": [
    {
     "name": "stdout",
     "output_type": "stream",
     "text": [
      "Covariance matrix for plot 0,0:\n",
      " [[0.98423601 0.06398197]\n",
      " [0.06398197 1.0637875 ]]\n",
      "Covariance matrix for plot 0,1:\n",
      " [[0.91033173 0.91029033]\n",
      " [0.91029033 0.91045004]]\n",
      "Covariance matrix for plot 1,0:\n",
      " [[ 0.97045329 -0.96992225]\n",
      " [-0.96992225  0.96958196]]\n",
      "Covariance matrix for plot 1,1:\n",
      " [[1.01014958 0.40344766]\n",
      " [0.40344766 0.93612295]]\n"
     ]
    },
    {
     "data": {
      "image/png": "[encoded data removed]",
      "text/plain": [
       "<Figure size 432x288 with 4 Axes>"
      ]
     },
     "metadata": {
      "needs_background": "light"
     },
     "output_type": "display_data"
    }
   ],
   "source": [
    "fig = plt.figure()\n",
    "axes = fig.subplots(2,2)\n",
    "vals_0 = draw_2d_gaussian(axes[0,0], 1000, 1, 1, 0)\n",
    "vals_1 = draw_2d_gaussian(axes[0,1], 1000, 1, 1, 1)\n",
    "vals_2 = draw_2d_gaussian(axes[1,0], 1000, 1, 1, -1)\n",
    "vals_3 = draw_2d_gaussian(axes[1,1], 1000, 1, 1, 0.5)\n",
    "\n",
    "print(\"Covariance matrix for plot 0,0:\\n\", np.cov(vals_0))\n",
    "print(\"Covariance matrix for plot 0,1:\\n\", np.cov(vals_1))\n",
    "print(\"Covariance matrix for plot 1,0:\\n\", np.cov(vals_2))\n",
    "print(\"Covariance matrix for plot 1,1:\\n\", np.cov(vals_3))"
   ]
  },
  {
   "cell_type": "markdown",
   "id": "48a6e22f",
   "metadata": {},
   "source": [
    "### Effect of changing the variances, $\\sigma_{xx}, \\sigma_{yy}$.\n",
    "\n",
    "Let's make 4 plots with different variances."
   ]
  },
  {
   "cell_type": "code",
   "execution_count": 5,
   "id": "65ccfee9",
   "metadata": {},
   "outputs": [
    {
     "name": "stdout",
     "output_type": "stream",
     "text": [
      "Covariance matrix for plot 0,0:\n",
      " [[0.95188674 0.02298045]\n",
      " [0.02298045 0.93849252]]\n",
      "Covariance matrix for plot 0,1:\n",
      " [[ 1.96427059e-01 -1.77371454e-04]\n",
      " [-1.77371454e-04  1.01758170e+00]]\n",
      "Covariance matrix for plot 1,0:\n",
      " [[ 0.89737813 -0.00572389]\n",
      " [-0.00572389  0.20159127]]\n",
      "Covariance matrix for plot 1,1:\n",
      " [[0.20220018 0.18199236]\n",
      " [0.18199236 0.20558504]]\n"
     ]
    },
    {
     "data": {
      "image/png": "[encoded data removed]",
      "text/plain": [
       "<Figure size 432x288 with 4 Axes>"
      ]
     },
     "metadata": {
      "needs_background": "light"
     },
     "output_type": "display_data"
    }
   ],
   "source": [
    "fig = plt.figure()\n",
    "axes = fig.subplots(2,2)\n",
    "vals_0 = draw_2d_gaussian(axes[0,0], 1000, 1, 1, 0)\n",
    "vals_1 = draw_2d_gaussian(axes[0,1], 1000, 0.2, 1, 0)\n",
    "vals_2 = draw_2d_gaussian(axes[1,0], 1000, 1, 0.2, 0)\n",
    "vals_3 = draw_2d_gaussian(axes[1,1], 1000, 0.2, 0.2, 0.18)\n",
    "\n",
    "print(\"Covariance matrix for plot 0,0:\\n\", np.cov(vals_0))\n",
    "print(\"Covariance matrix for plot 0,1:\\n\", np.cov(vals_1))\n",
    "print(\"Covariance matrix for plot 1,0:\\n\", np.cov(vals_2))\n",
    "print(\"Covariance matrix for plot 1,1:\\n\", np.cov(vals_3))"
   ]
  },
  {
   "cell_type": "markdown",
   "id": "996fbaa2",
   "metadata": {},
   "source": [
    "### Questions for discussion\n",
    "\n",
    "#### 1.1 The plots above were made by simulating data from Gaussian distributions.  Describe some pairs of real world quantities that might be a) highly correlated, b) highly anti-correlated, c) uncorrelated, d) measured in the same units, but with a much larger variance in x than in y.\n",
    "\n",
    "#### 1.2 The variances and covariances are nice summary statistics for distributions of data.  For Gaussian distributions they pretty much capture all the relevant information.  (I.e., with the means, variances and covariances for a set of data points, you pretty much know exactly what the scatter plots look like).   However, for real world data they might leave off some very important information. \n",
    "\n",
    "#### Bonus: Imagine distributions of points shaped like the letters U and V or M and W. What would you expect the covariance to be for each pair of letters?  (Trick question).   Why might that make using the covariance as a summary statistic problematic?"
   ]
  },
  {
   "cell_type": "markdown",
   "id": "3da69169",
   "metadata": {},
   "source": [
    "### Another way to consider correlations is to ask what part of the variance in one quantity is  tied to the variance of another quantity.\n",
    "\n",
    "To do this, we want to factor out the variances of the two quantities and compute the \"correlation factor\" or \"correlation coefficient\".\n",
    "\n",
    "$c_{xy} = \\frac{\\sigma_{xy}}{\\sqrt{\\sigma_{xx}\\sigma_{yy}}}$\n",
    "\n",
    "Note that $c_{xx} = c_{yy} = 1$, i.e., each quantity is 100% correlated with itself.\n",
    "\n",
    "Let's remake the second set of plots and evaluate the correlations.\n"
   ]
  },
  {
   "cell_type": "code",
   "execution_count": 6,
   "id": "ed2d0c2d",
   "metadata": {},
   "outputs": [
    {
     "name": "stdout",
     "output_type": "stream",
     "text": [
      "Correlation matrix for plot 0,0:\n",
      " [[1.         0.02110299]\n",
      " [0.02110299 1.        ]]\n",
      "Correlation matrix for plot 0,1:\n",
      " [[1.         0.01949106]\n",
      " [0.01949106 1.        ]]\n",
      "Correlation matrix for plot 1,0:\n",
      " [[ 1.         -0.00623958]\n",
      " [-0.00623958  1.        ]]\n",
      "Correlation matrix for plot 1,1:\n",
      " [[1.         0.89590554]\n",
      " [0.89590554 1.        ]]\n"
     ]
    },
    {
     "data": {
      "image/png": "[encoded data removed]",
      "text/plain": [
       "<Figure size 432x288 with 4 Axes>"
      ]
     },
     "metadata": {
      "needs_background": "light"
     },
     "output_type": "display_data"
    }
   ],
   "source": [
    "fig = plt.figure()\n",
    "axes = fig.subplots(2,2)\n",
    "vals_0 = draw_2d_gaussian(axes[0,0], 1000, 1, 1, 0)\n",
    "vals_1 = draw_2d_gaussian(axes[0,1], 1000, 0.2, 1, 0)\n",
    "vals_2 = draw_2d_gaussian(axes[1,0], 1000, 1, 0.2, 0)\n",
    "vals_3 = draw_2d_gaussian(axes[1,1], 1000, 0.2, 0.2, 0.18)\n",
    "\n",
    "print(\"Correlation matrix for plot 0,0:\\n\", np.corrcoef(vals_0))\n",
    "print(\"Correlation matrix for plot 0,1:\\n\", np.corrcoef(vals_1))\n",
    "print(\"Correlation matrix for plot 1,0:\\n\", np.corrcoef(vals_2))\n",
    "print(\"Correlation matrix for plot 1,1:\\n\", np.corrcoef(vals_3))"
   ]
  },
  {
   "cell_type": "markdown",
   "id": "11ee2d8b",
   "metadata": {},
   "source": [
    "### Question for discussion\n",
    "\n",
    "#### 2.1 What do you see as the advantage / disadvantage of using the correlation coefficient versus the covariance?"
   ]
  },
  {
   "cell_type": "markdown",
   "id": "85cb8cdd",
   "metadata": {},
   "source": [
    "### Ok, let's load up the Vela data\n",
    "\n",
    "This is the same stuff we used to load the data last week.  "
   ]
  },
  {
   "cell_type": "code",
   "execution_count": 7,
   "id": "9561c128",
   "metadata": {},
   "outputs": [],
   "source": [
    "data = np.loadtxt(open(\"../data/Vela_Flux.txt\", 'rb'), usecols=range(7))\n",
    "\n",
    "# This is how we pull out the data from columns in the array.\n",
    "\n",
    "# This is the date in \"Mission Elapsed Time\"\n",
    "# For the Fermi mission, this is defined to be the number of seconds since the start of 2001.\n",
    "date_MET = data[:,0]\n",
    "# This is the offset in seconds between the Fermi \"MET\" and the UNIX \"epoch\" used by matplotlib\n",
    "MET_To_Unix = 978336000\n",
    "\n",
    "# These are the numbers of photons observed from Vela each week in the \"low\" Energy Band (100 MeV - 800 MeV)\n",
    "nObs_LE = data[:,1]\n",
    "\n",
    "# These are the number of photons expected from Vela each week, under the assumption that it is \n",
    "# not varying at all, and the only differences depend on how long we spent looking at Vela\n",
    "# that particular weeek\n",
    "nExp_LE = data[:,2]\n",
    "\n",
    "# These are the band bounds, in MeV\n",
    "LE_bounds = (100., 800.)\n",
    "\n",
    "# This is the \"significance\" of the variation for each week.  We will discuss this more later\n",
    "signif_LE = data[:,3]\n",
    "\n",
    "nObs_HE = data[:,4]\n",
    "nExp_HE = data[:,5]\n",
    "signif_HE = data[:6]\n",
    "HE_bounds = (800., 10000.)\n",
    "\n",
    "# This converts the dates to something that matplotlib understands\n",
    "dates = [datetime.datetime.fromtimestamp(date + MET_To_Unix) for date in date_MET]"
   ]
  },
  {
   "cell_type": "markdown",
   "id": "23f42fc7",
   "metadata": {},
   "source": [
    "### Example with quantities that are highly correlated.\n",
    "\n",
    "Last week we saw that for the Vela data the numbers of observed and expected counts where highly correlated.  I.e., that Vela wasn't flaring or doing anything crazy.\n",
    "\n",
    "Let's quantify that."
   ]
  },
  {
   "cell_type": "code",
   "execution_count": 8,
   "id": "83a9235b",
   "metadata": {},
   "outputs": [
    {
     "name": "stdout",
     "output_type": "stream",
     "text": [
      "The expected counts are 0.998 correlated with the observed counts\n"
     ]
    },
    {
     "data": {
      "image/png": "[encoded data removed]",
      "text/plain": [
       "<Figure size 432x288 with 1 Axes>"
      ]
     },
     "metadata": {
      "needs_background": "light"
     },
     "output_type": "display_data"
    }
   ],
   "source": [
    "_ = plt.scatter(nExp_LE, nObs_LE)\n",
    "_ = plt.xlabel(r\"$n_{\\rm exp}$ [per week]\")\n",
    "_ = plt.ylabel(r\"$n_{\\rm obs}$ [per week]\")\n",
    "correl = np.corrcoef(nObs_LE, nExp_LE)\n",
    "print(\"The expected counts are %0.3f correlated with the observed counts\" % correl[0,1])"
   ]
  },
  {
   "cell_type": "markdown",
   "id": "b2c7efb3",
   "metadata": {},
   "source": [
    "### Is there a long-term trend to the Vela flux.\n",
    "\n",
    "Let's use the correlation to see if there is a long-term trend to the Vela pulsar flux. "
   ]
  },
  {
   "cell_type": "markdown",
   "id": "fc4ef205",
   "metadata": {},
   "source": [
    "Ok, so let's convert the time axis to a nice small number (i.e., lets scale the time to years, and let's set the zero point to something in the middle of the time range).  This will save use having lots of really big numbers floating around, which would happen if we left the time in seconds since 2001."
   ]
  },
  {
   "cell_type": "code",
   "execution_count": 9,
   "id": "7416922b",
   "metadata": {},
   "outputs": [],
   "source": [
    "date_YEAR = 2001 +  (date_MET / (24*3600*365))\n",
    "years_since_mid_2014 = date_YEAR  - 2014.5"
   ]
  },
  {
   "cell_type": "code",
   "execution_count": 10,
   "id": "eecd0065",
   "metadata": {
    "scrolled": true
   },
   "outputs": [
    {
     "data": {
      "image/png": "[encoded data removed]",
      "text/plain": [
       "<Figure size 432x288 with 1 Axes>"
      ]
     },
     "metadata": {
      "needs_background": "light"
     },
     "output_type": "display_data"
    }
   ],
   "source": [
    "excess_counts = nObs_LE-nExp_LE\n",
    "_ = plt.scatter(years_since_mid_2014, excess_counts)\n",
    "_ = plt.xlabel(r\"Time since mid 2014 [years]\")\n",
    "_ = plt.ylabel(r\"$n_{\\rm obs}$ [per week]\")"
   ]
  },
  {
   "cell_type": "code",
   "execution_count": 11,
   "id": "6c68bccf",
   "metadata": {},
   "outputs": [],
   "source": [
    "cov = np.cov(years_since_mid_2014, excess_counts)\n",
    "correl = np.corrcoef(years_since_mid_2014, excess_counts)"
   ]
  },
  {
   "cell_type": "markdown",
   "id": "66b5f016",
   "metadata": {},
   "source": [
    "### Let's have a look at the pieces of the covariance matrix"
   ]
  },
  {
   "cell_type": "code",
   "execution_count": 12,
   "id": "491359b6",
   "metadata": {},
   "outputs": [
    {
     "name": "stdout",
     "output_type": "stream",
     "text": [
      "The xx element of the covariance matrix is 13.65 years**2\n",
      "The standard deviation of the x element (i.e., the year) is 3.69 years\n",
      "The yy element of the covariance matrix is 3973.27 counts**2\n",
      "The standard deviation of the yy element (i.e., the excess counts) is 63.0 counts\n",
      "The xy element of the covariance matrix is -2.95 years*counts\n",
      "The x-y correlation coefficient is -0.013\n"
     ]
    }
   ],
   "source": [
    "print(\"The xx element of the covariance matrix is %.2f years**2\" %  cov[0,0])\n",
    "print(\"The standard deviation of the x element (i.e., the year) is %.2f years\" % np.sqrt(cov[0,0]))\n",
    "print(\"The yy element of the covariance matrix is %.2f counts**2\" %  cov[1,1])\n",
    "print(\"The standard deviation of the yy element (i.e., the excess counts) is %.1f counts\" % np.sqrt(cov[1,1]))\n",
    "print(\"The xy element of the covariance matrix is %.2f years*counts\" %  cov[0,1])\n",
    "print(\"The x-y correlation coefficient is %0.3f\" % correl[1,0])"
   ]
  },
  {
   "cell_type": "markdown",
   "id": "47d02680",
   "metadata": {},
   "source": [
    "### Question for discussion\n",
    "\n",
    "#### 3.1 Do you think that the small correlation we found in the previous cell is going to be statistically significant?  Why or why not?  Does the contrast between the last two plots affect your opinion?  What about the difference between the correlation values?"
   ]
  },
  {
   "cell_type": "code",
   "execution_count": null,
   "id": "ecb6d53a",
   "metadata": {},
   "outputs": [],
   "source": []
  }
 ],
 "metadata": {
  "kernelspec": {
   "display_name": "Python 3 (ipykernel)",
   "language": "python",
   "name": "python3"
  },
  "language_info": {
   "codemirror_mode": {
    "name": "ipython",
    "version": 3
   },
   "file_extension": ".py",
   "mimetype": "text/x-python",
   "name": "python",
   "nbconvert_exporter": "python",
   "pygments_lexer": "ipython3",
   "version": "3.10.0"
  }
 },
 "nbformat": 4,
 "nbformat_minor": 5
}
