{
 "cells": [
  {
   "cell_type": "code",
   "execution_count": null,
   "id": "be2ca921",
   "metadata": {},
   "outputs": [],
   "source": [
    "%matplotlib inline\n",
    "import matplotlib.pyplot as plt\n",
    "import numpy as np\n",
    "import scipy.stats as stats\n",
    "import scipy.optimize as optimize\n",
    "import datetime"
   ]
  },
  {
   "cell_type": "code",
   "execution_count": null,
   "id": "c686fb63",
   "metadata": {},
   "outputs": [],
   "source": [
    "data = np.loadtxt(open(\"../data/Vela_Flux.txt\", 'rb'), usecols=range(7))\n",
    "\n",
    "# This is how we pull out the data from columns in the array.\n",
    "\n",
    "# This is the date in \"Mission Elapsesd Time\"\n",
    "# For the Fermi mission, this is defined to be the number of seconds since the start of 2001.\n",
    "date_MET = data[:,0]\n",
    "# This is the offset in seconds between the Fermi \"MET\" and the UNIX \"epoch\" used by matplotlib\n",
    "MET_To_Unix = 978336000\n",
    "\n",
    "# These are the numbers of photons observed from Vela each week in the \"low\" Energy Band (100 MeV - 800 MeV)\n",
    "nObs_LE = data[:,1]\n",
    "\n",
    "# These are the number of photons expected from Vela each week, under the assumption that it is \n",
    "# not varying at all, and the only differences depend on how long we spent looking at Vela\n",
    "# that particular weeek\n",
    "nExp_LE = data[:,2]\n",
    "\n",
    "# These are the band bounds, in MeV\n",
    "LE_bounds = (100., 800.)\n",
    "\n",
    "# This is the \"significance\" of the variation for each week.  We will discuss this more later\n",
    "signif_LE = data[:,3]\n",
    "\n",
    "nObs_HE = data[:,4]\n",
    "nExp_HE = data[:,5]\n",
    "signif_HE = data[:6]\n",
    "HE_bounds = (800., 10000.)\n",
    "\n",
    "# This converts the dates to something that matplotlib understands\n",
    "dates = [datetime.datetime.fromtimestamp(date + MET_To_Unix) for date in date_MET]\n",
    "date_YEAR = 2001 +  (date_MET / (24*3600*365))\n",
    "years_since_mid_2014 = date_YEAR  - 2014.5"
   ]
  },
  {
   "cell_type": "code",
   "execution_count": null,
   "id": "0ecd110d",
   "metadata": {},
   "outputs": [],
   "source": [
    "excess_counts = nObs_LE-nExp_LE\n",
    "sigma_counts =  np.sqrt(nObs_LE)\n",
    "_ = plt.errorbar(dates, excess_counts, yerr=sigma_counts)\n",
    "_ = plt.xlabel(r\"Date [year]]\")\n",
    "_ = plt.ylabel(r\"$n_{\\rm obs}$ [per week]\")"
   ]
  },
  {
   "cell_type": "code",
   "execution_count": null,
   "id": "3d22e28a",
   "metadata": {},
   "outputs": [],
   "source": [
    "_ = plt.errorbar(years_since_mid_2014, excess_counts, yerr=sigma_counts)\n",
    "_ = plt.xlabel(r\"Date [year]]\")\n",
    "_ = plt.ylabel(r\"$n_{\\rm obs}$ [per week]\")"
   ]
  },
  {
   "cell_type": "code",
   "execution_count": null,
   "id": "2b23e9af",
   "metadata": {},
   "outputs": [],
   "source": [
    "def linear_function(xvals, params):\n",
    "    return params[0] + xvals*params[1]"
   ]
  },
  {
   "cell_type": "code",
   "execution_count": null,
   "id": "d6f4d893",
   "metadata": {},
   "outputs": [],
   "source": [
    "_ = plt.xlabel(r\"Date [year]]\")\n",
    "_ = plt.ylabel(r\"$n_{\\rm obs}$ [per week]\")\n",
    "_ = plt.errorbar(years_since_mid_2014, excess_counts, yerr=sigma_counts, alpha=0.2)\n",
    "\n",
    "xvals = years_since_mid_2014\n",
    "params = np.array([0, 0])\n",
    "for offset in np.linspace(-200, 200, 5):\n",
    "    params[0] = offset\n",
    "    _ = plt.plot(xvals, linear_function(xvals, params), label=r\"Offset = %0.0f\" % offset)\n",
    "_ = plt.legend()"
   ]
  },
  {
   "cell_type": "code",
   "execution_count": null,
   "id": "e4bbac23",
   "metadata": {},
   "outputs": [],
   "source": [
    "_ = plt.xlabel(r\"Date [year]]\")\n",
    "_ = plt.ylabel(r\"$n_{\\rm obs}$ [per week]\")\n",
    "_ = plt.errorbar(years_since_mid_2014, excess_counts, yerr=sigma_counts, alpha=0.2)\n",
    "\n",
    "xvals = years_since_mid_2014\n",
    "params = np.array([0, 0])\n",
    "for slope in np.linspace(-5, 5, 5):\n",
    "    params[1] = slope\n",
    "    _ = plt.plot(xvals, linear_function(xvals, params), label=r\"Slope = %0.1f\" % slope)\n",
    "_ = plt.legend()"
   ]
  },
  {
   "cell_type": "code",
   "execution_count": null,
   "id": "f73e93a0",
   "metadata": {},
   "outputs": [],
   "source": [
    "def residual_function(data_x, data_y, model_function, params):\n",
    "    model_y = model_function(data_x, params)\n",
    "    residual = data_y - model_y\n",
    "    return residual"
   ]
  },
  {
   "cell_type": "code",
   "execution_count": null,
   "id": "d1a7f5a8",
   "metadata": {},
   "outputs": [],
   "source": [
    "def plot_residuals(params):\n",
    "    _ = plt.xlabel(r\"Date [year]]\")\n",
    "    _ = plt.ylabel(r\"$n_{\\rm obs}$ [per week]\")\n",
    "    residuals = residual_function(years_since_mid_2014, excess_counts, linear_function, params)\n",
    "    _ = plt.scatter(years_since_2008, residuals)"
   ]
  },
  {
   "cell_type": "code",
   "execution_count": null,
   "id": "22891c02",
   "metadata": {},
   "outputs": [],
   "source": [
    "plot_residuals([0,0])"
   ]
  },
  {
   "cell_type": "code",
   "execution_count": null,
   "id": "fea5073e",
   "metadata": {},
   "outputs": [],
   "source": [
    "plot_residuals([0,10])"
   ]
  },
  {
   "cell_type": "code",
   "execution_count": null,
   "id": "5eaebf27",
   "metadata": {},
   "outputs": [],
   "source": [
    "def plot_scaled_residuals(params):\n",
    "    residuals = residual_function(years_since_mid_2014, excess_counts, linear_function, params)\n",
    "    chi = residuals / sigma_counts\n",
    "    _ = plt.xlabel(r\"Date [year]]\")\n",
    "    _ = plt.ylabel(r\"$n_{\\rm obs}$ [per week]\")\n",
    "    _ = plt.scatter(years_since_2008, chi)\n"
   ]
  },
  {
   "cell_type": "code",
   "execution_count": null,
   "id": "6a499c88",
   "metadata": {},
   "outputs": [],
   "source": [
    "plot_scaled_residuals([0,10])"
   ]
  },
  {
   "cell_type": "code",
   "execution_count": null,
   "id": "9f573fde",
   "metadata": {},
   "outputs": [],
   "source": [
    "def chi2_function(data_x, data_y, data_sigma_y, model_function, params):\n",
    "    model_y = model_function(data_x, params)\n",
    "    chi2 = ((data_y - model_y)/(data_sigma_y))**2\n",
    "    return chi2.sum()"
   ]
  },
  {
   "cell_type": "code",
   "execution_count": null,
   "id": "86413606",
   "metadata": {},
   "outputs": [],
   "source": [
    "_ = plt.xlabel(r\"Offest\")\n",
    "_ = plt.ylabel(r\"$\\chi^2$\")\n",
    "\n",
    "params = np.array([0, 0])\n",
    "chi2_vals = np.zeros((11))\n",
    "offset_scan_points = np.linspace(-20., 20., 11)\n",
    "for i in range(11):\n",
    "    params[0] = offset_scan_points[i]\n",
    "    chi2_vals[i] = chi2_function(years_since_mid_2014, excess_counts, sigma_counts, linear_function, params)\n",
    "\n",
    "_ = plt.plot(offset_scan_points, chi2_vals)"
   ]
  },
  {
   "cell_type": "code",
   "execution_count": null,
   "id": "0811d642",
   "metadata": {},
   "outputs": [],
   "source": [
    "_ = plt.xlabel(r\"Offest\")\n",
    "_ = plt.ylabel(r\"$\\chi^2$\")\n",
    "\n",
    "params = np.array([0., 0.])\n",
    "chi2_vals = np.zeros((11))\n",
    "offset_scan_points = np.linspace(-10., 10., 11)\n",
    "for i in range(11):\n",
    "    params[0] = offset_scan_points[i]\n",
    "    chi2_vals[i] = chi2_function(years_since_mid_2014, excess_counts, sigma_counts, linear_function, params)\n",
    "\n",
    "_ = plt.plot(offset_scan_points, chi2_vals)"
   ]
  },
  {
   "cell_type": "code",
   "execution_count": null,
   "id": "17cd1474",
   "metadata": {},
   "outputs": [],
   "source": [
    "_ = plt.xlabel(r\"Slope\")\n",
    "_ = plt.ylabel(r\"$\\chi^2$\")\n",
    "\n",
    "params = np.array([0., 0.])\n",
    "chi2_vals = np.zeros((11))\n",
    "slope_scan_points = np.linspace(-3., 3., 11)\n",
    "for i in range(11):\n",
    "    params[1] = slope_scan_points[i]\n",
    "    chi2_vals[i] = chi2_function(years_since_mid_2014, excess_counts, sigma_counts, linear_function, params)\n",
    "\n",
    "_ = plt.plot(slope_scan_points, chi2_vals)"
   ]
  },
  {
   "cell_type": "code",
   "execution_count": null,
   "id": "4b87467c",
   "metadata": {},
   "outputs": [],
   "source": [
    "_ = plt.ylabel(r\"Slope\")\n",
    "_ = plt.xlabel(r\"Offset\")\n",
    "\n",
    "nx = 51\n",
    "ny = 51\n",
    "\n",
    "params = np.array([0., 0.])\n",
    "chi2_2d_scan_vals = np.zeros((nx, ny))\n",
    "offset_scan_points = np.linspace(-10, 10, nx)\n",
    "slope_scan_points = np.linspace(-5, 5, ny)\n",
    "\n",
    "for i in range(nx):\n",
    "    params[0] = offset_scan_points[i]\n",
    "    for j in range(ny):\n",
    "        params[1] = slope_scan_points[j]\n",
    "        chi2_2d_scan_vals[i,j] = chi2_function(years_since_mid_2014, excess_counts, sigma_counts,\n",
    "                                               linear_function, params)\n",
    "\n",
    "chi2_2d_scan_vals -= chi2_2d_scan_vals.min()\n",
    "_ = plt.imshow(chi2_2d_scan_vals.T, extent=(-10, 10, -5, 5), aspect='auto')\n",
    "_ = plt.colorbar()\n",
    "_ = plt.contour(offset_scan_points, slope_scan_points, chi2_2d_scan_vals.T, levels=[0.5, 2, 4.5])"
   ]
  },
  {
   "cell_type": "code",
   "execution_count": null,
   "id": "59f7a4f1",
   "metadata": {},
   "outputs": [],
   "source": [
    "def cost_function(params):\n",
    "    return chi2_function(years_since_mid_2014, excess_counts, sigma_counts, linear_function, params)"
   ]
  },
  {
   "cell_type": "code",
   "execution_count": null,
   "id": "05751a6d",
   "metadata": {},
   "outputs": [],
   "source": [
    "cost_function(np.array([0., 0.]))"
   ]
  },
  {
   "cell_type": "code",
   "execution_count": null,
   "id": "44cb3f88",
   "metadata": {},
   "outputs": [],
   "source": [
    "init_pars = np.array([0., 0.])\n",
    "result = optimize.minimize(cost_function, x0=np.array(init_pars))"
   ]
  },
  {
   "cell_type": "code",
   "execution_count": null,
   "id": "417b244a",
   "metadata": {},
   "outputs": [],
   "source": [
    "fit_cov = result['hess_inv']\n",
    "best_fit = result['x']\n",
    "offset_fit = best_fit[0]\n",
    "slope_fit = best_fit[1]\n",
    "offset_error = np.sqrt(fit_cov[0,0])\n",
    "slope_error = np.sqrt(fit_cov[1,1])\n",
    "offset_slope_correl = fit_cov[0,1]/(offset_error*slope_error)\n",
    "print(\"Best Fit:\")\n",
    "print(\"Offset = %0.1f +- %0.1f\" % (offset_fit, offset_error))\n",
    "print(\"Slope = %0.2f +- %0.2f\" % (slope_fit, slope_error))\n",
    "print(\"Correlation = %0.2f\" % offset_slope_correl)"
   ]
  },
  {
   "cell_type": "code",
   "execution_count": null,
   "id": "e771e110",
   "metadata": {},
   "outputs": [],
   "source": [
    "_ = plt.ylabel(r\"Slope\")\n",
    "_ = plt.xlabel(r\"Offset\")\n",
    "\n",
    "nx = 51\n",
    "ny = 51\n",
    "\n",
    "params = np.array([0., 0.])\n",
    "chi2_2d_scan_vals = np.zeros((nx, ny))\n",
    "offset_scan_points = np.linspace(-5, 5, nx)\n",
    "slope_scan_points = np.linspace(-2, 2, ny)\n",
    "\n",
    "for i in range(nx):\n",
    "    params[0] = offset_scan_points[i]\n",
    "    for j in range(ny):\n",
    "        params[1] = slope_scan_points[j]\n",
    "        chi2_2d_scan_vals[i,j] = chi2_function(years_since_mid_2014, excess_counts, sigma_counts, linear_function, params)\n",
    "\n",
    "chi2_2d_scan_vals -= best_fit_chi2\n",
    "_ = plt.imshow(chi2_2d_scan_vals.T, extent=(-5, 5, -2, 2), aspect='auto')\n",
    "_ = plt.colorbar()\n",
    "_ = plt.contour(offset_scan_points, slope_scan_points, chi2_2d_scan_vals.T, levels=[0.5, 2, 4.5])\n",
    "_ = plt.errorbar(offset_fit, slope_fit, xerr=offset_error, yerr=slope_error)"
   ]
  },
  {
   "cell_type": "code",
   "execution_count": null,
   "id": "dc8b121a",
   "metadata": {},
   "outputs": [],
   "source": []
  }
 ],
 "metadata": {
  "kernelspec": {
   "display_name": "Python 3",
   "language": "python",
   "name": "python3"
  },
  "language_info": {
   "codemirror_mode": {
    "name": "ipython",
    "version": 3
   },
   "file_extension": ".py",
   "mimetype": "text/x-python",
   "name": "python",
   "nbconvert_exporter": "python",
   "pygments_lexer": "ipython3",
   "version": "3.8.10"
  }
 },
 "nbformat": 4,
 "nbformat_minor": 5
}
