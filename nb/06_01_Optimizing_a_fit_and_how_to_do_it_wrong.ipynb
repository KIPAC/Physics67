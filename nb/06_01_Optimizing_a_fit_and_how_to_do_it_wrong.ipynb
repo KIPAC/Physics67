{
 "cells": [
  {
   "cell_type": "code",
   "execution_count": 1,
   "id": "04e711ee",
   "metadata": {},
   "outputs": [],
   "source": [
    "%matplotlib inline\n",
    "import matplotlib.pyplot as plt\n",
    "import numpy as np\n",
    "import scipy.stats as stats\n",
    "import scipy.optimize as optimize\n",
    "import datetime"
   ]
  },
  {
   "cell_type": "markdown",
   "id": "e64ee46b",
   "metadata": {},
   "source": [
    "### Ok let's pick up where we left off with the Vela pulsar data\n",
    "\n",
    "(This cell is just a repeat of loading the Vela data)"
   ]
  },
  {
   "cell_type": "code",
   "execution_count": 2,
   "id": "37b370ef",
   "metadata": {},
   "outputs": [],
   "source": [
    "data = np.loadtxt(open(\"../data/Vela_Flux.txt\", 'rb'), usecols=range(7))\n",
    "\n",
    "# This is how we pull out the data from columns in the array.\n",
    "\n",
    "# This is the date in \"Mission Elapsed Time\"\n",
    "# For the Fermi mission, this is defined to be the number of seconds since the start of 2001.\n",
    "date_MET = data[:,0]\n",
    "# This is the offset in seconds between the Fermi \"MET\" and the UNIX \"epoch\" used by matplotlib\n",
    "MET_To_Unix = 978336000\n",
    "\n",
    "# These are the numbers of photons observed from Vela each week in the \"low\" Energy Band (100 MeV - 800 MeV)\n",
    "nObs_LE = data[:,1]\n",
    "\n",
    "# These are the number of photons expected from Vela each week, under the assumption that it is \n",
    "# not varying at all, and the only differences depend on how long we spent looking at Vela\n",
    "# that particular weeek\n",
    "nExp_LE = data[:,2]\n",
    "\n",
    "# These are the band bounds, in MeV\n",
    "LE_bounds = (100., 800.)\n",
    "\n",
    "# This is the \"significance\" of the variation for each week.  We will discuss this more later\n",
    "signif_LE = data[:,3]\n",
    "\n",
    "nObs_HE = data[:,4]\n",
    "nExp_HE = data[:,5]\n",
    "signif_HE = data[:6]\n",
    "HE_bounds = (800., 10000.)\n",
    "\n",
    "# This converts the dates to something that matplotlib understands\n",
    "dates = [datetime.datetime.fromtimestamp(date + MET_To_Unix) for date in date_MET]\n",
    "date_YEAR = 2001 +  (date_MET / (24*3600*365))\n",
    "years_since_mid_2014 = date_YEAR  - 2014.5"
   ]
  },
  {
   "cell_type": "markdown",
   "id": "a565f2dd",
   "metadata": {},
   "source": [
    "### Now let's add the functions we needed to minimize the $\\chi^2$\n",
    "\n",
    "That includes the model, a function to calculate the residuals and a function to compute the $\\chi^2$\n"
   ]
  },
  {
   "cell_type": "code",
   "execution_count": 3,
   "id": "194cafef",
   "metadata": {},
   "outputs": [],
   "source": [
    "def linear_function(xvals, params):\n",
    "    return params[0] + xvals*params[1]\n",
    "\n",
    "def residual_function(data_x, data_y, model_function, params):\n",
    "    model_y = model_function(data_x, params)\n",
    "    residual = data_y - model_y\n",
    "    return residual\n",
    "\n",
    "def chi2_function(data_x, data_y, data_sigma_y, model_function, params):\n",
    "    model_y = model_function(data_x, params)\n",
    "    chi2 = ((data_y - model_y)/(data_sigma_y))**2\n",
    "    return np.sum(chi2)"
   ]
  },
  {
   "cell_type": "markdown",
   "id": "737b5843",
   "metadata": {},
   "source": [
    "# Function minimizers\n",
    "\n",
    "Finding the set of parameters that minimize a function is a very, very common thing the do in research.  In our case we are looking for the set of model parameters that give us the smallest $\\chi^2$, i.e., the bit fit.\n",
    "\n",
    "Since this is such a common thing to do, there are many software packages that will do it.  Typically they refer to the function that is being minimized as the \"cost function\", and they expect you to provide a function that takes only the model parameters as inputs.\n",
    "\n",
    "So we are going to write a \"cost function\" that just calls our $\\chi^2$ with the right versions of the data and model.  \n",
    "\n",
    "Because the software we use (scipy.optimize) has a slightly different convention than what we are using, we will multiply the $\\chi^2$ by a factor of 0.5 so that the uncertainty estimated returned by the minimizer will be correct.  "
   ]
  },
  {
   "cell_type": "code",
   "execution_count": 4,
   "id": "9b838578",
   "metadata": {},
   "outputs": [],
   "source": [
    "excess_counts = nObs_LE-nExp_LE\n",
    "sigma_counts =  np.sqrt(nObs_LE)\n",
    "\n",
    "def cost_function(params):\n",
    "    return 0.5*chi2_function(years_since_mid_2014, excess_counts, sigma_counts, linear_function, params)"
   ]
  },
  {
   "cell_type": "code",
   "execution_count": 5,
   "id": "17e105b3",
   "metadata": {},
   "outputs": [
    {
     "name": "stdout",
     "output_type": "stream",
     "text": [
      "Fitter result:\n",
      "      fun: 382.2254022807482\n",
      " hess_inv: array([[ 4.36057701, -0.06324286],\n",
      "       [-0.06324286,  0.33708028]])\n",
      "      jac: array([0., 0.])\n",
      "  message: 'Optimization terminated successfully.'\n",
      "     nfev: 18\n",
      "      nit: 5\n",
      "     njev: 6\n",
      "   status: 0\n",
      "  success: True\n",
      "        x: array([-1.71177646,  0.12882749])\n",
      "\n",
      "Human readable version ---------------\n",
      "  Minimum value of cost function: 382.2\n",
      "  Minimum value of chi**2: 764.5\n",
      "  p0 best fit: -1.7 +- 0.6 counts\n",
      "  p1 best fit: 0.1 +- 0.6 counts / year\n",
      "  Correlation between p0 and p1: -0.06\n",
      "  Number of times cost function was called to find minimum: 18\n"
     ]
    }
   ],
   "source": [
    "result = optimize.minimize(cost_function, [0., 0.])\n",
    "pars = result['x']\n",
    "fmin = result['fun']\n",
    "p0_best = pars[0]\n",
    "p1_best = pars[1]\n",
    "cov = result['hess_inv']\n",
    "p0_err = np.sqrt(cov[0,0])\n",
    "p1_err = np.sqrt(cov[1,1])\n",
    "correl = cov[1,0]/np.sqrt(p0_err*p1_err)\n",
    "\n",
    "print(\"Fitter result:\")\n",
    "print(result)\n",
    "\n",
    "print(\"\")\n",
    "print(\"Human readable version ---------------\")\n",
    "print(\"  Minimum value of cost function: %.1f\" % fmin)\n",
    "print(\"  Minimum value of chi**2: %.1f\" % (2*fmin))\n",
    "print(\"  p0 best fit: %.1f +- %.1f counts\" % (p0_best, p1_err))\n",
    "print(\"  p1 best fit: %.1f +- %.1f counts / year\" % (p1_best, p1_err))\n",
    "print(\"  Correlation between p0 and p1: %.2f\" % correl)\n",
    "print(\"  Number of times cost function was called to find minimum: %i\" % result['nfev'])\n"
   ]
  },
  {
   "cell_type": "markdown",
   "id": "e45d8d5f",
   "metadata": {},
   "source": [
    "### Ok, now let's draw the fit result on top of the contours we made "
   ]
  },
  {
   "cell_type": "code",
   "execution_count": 6,
   "id": "989b9ad8",
   "metadata": {},
   "outputs": [
    {
     "data": {
      "image/png": "[encoded data removed]",
      "text/plain": [
       "<Figure size 432x288 with 2 Axes>"
      ]
     },
     "metadata": {
      "needs_background": "light"
     },
     "output_type": "display_data"
    }
   ],
   "source": [
    "_ = plt.xlabel(r\"$p_0$ = Offset [counts]\")\n",
    "_ = plt.ylabel(r\"$p_1$ = Slope [counts/year]\")\n",
    "\n",
    "\n",
    "nx = 51\n",
    "ny = 51\n",
    "\n",
    "params = np.array([0., 0.])\n",
    "chi2_2d_scan_vals = np.zeros((nx, ny))\n",
    "offset_scan_points = np.linspace(-10., 10., nx)\n",
    "slope_scan_points = np.linspace(-5., 5., ny)\n",
    "\n",
    "# Double loop for 2d scan\n",
    "for i in range(nx):\n",
    "    params[0] = offset_scan_points[i]\n",
    "    for j in range(ny):\n",
    "        params[1] = slope_scan_points[j]\n",
    "        chi2_2d_scan_vals[i,j] = chi2_function(years_since_mid_2014, excess_counts, sigma_counts,\n",
    "                                               linear_function, params)\n",
    "\n",
    "min_chi2 = chi2_2d_scan_vals.min()\n",
    "chi2_2d_scan_vals -= min_chi2\n",
    "\n",
    "# This next bit gets the x and y axis values for the grid point at the minimum.\n",
    "idx = chi2_2d_scan_vals.argmin()\n",
    "idx_x = idx//nx\n",
    "idx_y = idx%ny\n",
    "scan_min_x = offset_scan_points[idx_x]\n",
    "scan_min_y = offset_scan_points[idx_y]\n",
    "\n",
    "# Now let's plot it.\n",
    "_ = plt.imshow(chi2_2d_scan_vals.T, extent=(-10, 10, -5, 5), aspect='auto', origin='lower')\n",
    "_ = plt.colorbar(label=r\"$\\Delta \\chi^2$\")\n",
    "_ = plt.contour(offset_scan_points, slope_scan_points, chi2_2d_scan_vals.T, levels=[1, 4, 9], colors=\"white\")\n",
    "_ = plt.scatter(scan_min_x, scan_min_y)\n",
    "_ = plt.scatter(p0_best, p1_best)\n",
    "_ = plt.errorbar(p0_best, p1_best, xerr=p0_err, yerr=p1_err, color='yellow')"
   ]
  },
  {
   "cell_type": "markdown",
   "id": "a1150fbb",
   "metadata": {},
   "source": [
    "# Correlation between model parameters.\n",
    "\n",
    "Last week some of you commented that move the x-axis so that t=0 was in the middle of 2014 seemed a bit strange.\n",
    "\n",
    "There was actually a very good reason to do that, which we will examine now.\n",
    "\n",
    "So, Fermi actually launched in 2008.  So we could set t=0 to be in January 2008.\n",
    "\n",
    "years_since_2008 = date_YEAR  - 2008."
   ]
  },
  {
   "cell_type": "code",
   "execution_count": 7,
   "id": "eacf45a3",
   "metadata": {},
   "outputs": [
    {
     "ename": "NameError",
     "evalue": "name 'years_since_2008' is not defined",
     "output_type": "error",
     "traceback": [
      "\u001b[0;31m---------------------------------------------------------------------------\u001b[0m",
      "\u001b[0;31mNameError\u001b[0m                                 Traceback (most recent call last)",
      "\u001b[0;32m<ipython-input-7-1795b1472908>\u001b[0m in \u001b[0;36m<module>\u001b[0;34m\u001b[0m\n\u001b[1;32m      1\u001b[0m \u001b[0mexcess_counts\u001b[0m \u001b[0;34m=\u001b[0m \u001b[0mnObs_LE\u001b[0m\u001b[0;34m-\u001b[0m\u001b[0mnExp_LE\u001b[0m\u001b[0;34m\u001b[0m\u001b[0;34m\u001b[0m\u001b[0m\n\u001b[0;32m----> 2\u001b[0;31m \u001b[0m_\u001b[0m \u001b[0;34m=\u001b[0m \u001b[0mplt\u001b[0m\u001b[0;34m.\u001b[0m\u001b[0mscatter\u001b[0m\u001b[0;34m(\u001b[0m\u001b[0myears_since_2008\u001b[0m\u001b[0;34m,\u001b[0m \u001b[0mexcess_counts\u001b[0m\u001b[0;34m)\u001b[0m\u001b[0;34m\u001b[0m\u001b[0;34m\u001b[0m\u001b[0m\n\u001b[0m\u001b[1;32m      3\u001b[0m \u001b[0m_\u001b[0m \u001b[0;34m=\u001b[0m \u001b[0mplt\u001b[0m\u001b[0;34m.\u001b[0m\u001b[0mxlabel\u001b[0m\u001b[0;34m(\u001b[0m\u001b[0;34mr\"Date [years]\"\u001b[0m\u001b[0;34m)\u001b[0m\u001b[0;34m\u001b[0m\u001b[0;34m\u001b[0m\u001b[0m\n\u001b[1;32m      4\u001b[0m \u001b[0m_\u001b[0m \u001b[0;34m=\u001b[0m \u001b[0mplt\u001b[0m\u001b[0;34m.\u001b[0m\u001b[0mylabel\u001b[0m\u001b[0;34m(\u001b[0m\u001b[0;34mr\"$n_{\\rm ex}$ [per week]\"\u001b[0m\u001b[0;34m)\u001b[0m\u001b[0;34m\u001b[0m\u001b[0;34m\u001b[0m\u001b[0m\n",
      "\u001b[0;31mNameError\u001b[0m: name 'years_since_2008' is not defined"
     ]
    }
   ],
   "source": [
    "excess_counts = nObs_LE-nExp_LE\n",
    "_ = plt.scatter(years_since_2008, excess_counts)\n",
    "_ = plt.xlabel(r\"Date [years]\")\n",
    "_ = plt.ylabel(r\"$n_{\\rm ex}$ [per week]\")"
   ]
  },
  {
   "cell_type": "markdown",
   "id": "253c3386",
   "metadata": {},
   "source": [
    "Now, keep in mind that the model function we are using is a simple equation for a line. $y = p_0 + p_1 x$\n",
    "\n",
    "By moving the zero point of the x-axis, we are changing a bit how that function works with the data.  To demonstrate we will make a plot for different values of $p_1$."
   ]
  },
  {
   "cell_type": "code",
   "execution_count": null,
   "id": "de2cbbb9",
   "metadata": {},
   "outputs": [],
   "source": [
    "_ = plt.xlabel(r\"Time since 2008 [years]\")\n",
    "_ = plt.ylabel(r\"$n_{\\rm ex}$ [per week]\")\n",
    "_ = plt.errorbar(years_since_2008, excess_counts, yerr=sigma_counts, alpha=0.2)\n",
    "\n",
    "xvals = years_since_2008\n",
    "params = np.array([0., 0.])\n",
    "for slope in np.linspace(-15, 15, 5):\n",
    "    params[1] = slope\n",
    "    _ = plt.plot(xvals, linear_function(xvals, params), label=r\"Slope = %0.1f\" % slope)\n",
    "_ = plt.legend()"
   ]
  },
  {
   "cell_type": "markdown",
   "id": "641cd9f3",
   "metadata": {},
   "source": [
    "As you can see, all the lines cross at t=0, which is now off the left side of the plot.  Before it was more or less in the middle of the plot.  \n",
    "\n",
    "What this means is that if you were to pick a value like, say, $p_1 = 7.5$ the model tend to be above average of the data for the entire time.  This means that you would have to change the offset $p_0$ to a negative number to compensate. \n",
    "\n",
    "That is exactly what we mean when we say that the parameters have become more correlated.  Let's explore this using the fitting."
   ]
  },
  {
   "cell_type": "code",
   "execution_count": null,
   "id": "75531a13",
   "metadata": {},
   "outputs": [],
   "source": [
    "years_since_2008 = date_YEAR  - 2008.\n",
    "\n",
    "def cost_function_bad(params):\n",
    "    return 0.5*chi2_function(years_since_2008, excess_counts, sigma_counts, linear_function, params)\n",
    "\n"
   ]
  },
  {
   "cell_type": "code",
   "execution_count": null,
   "id": "cafa389e",
   "metadata": {},
   "outputs": [],
   "source": [
    "result_bad = optimize.minimize(cost_function_bad, [0., 0.])\n",
    "pars_bad = result_bad['x']\n",
    "fmin_bad = result_bad['fun']\n",
    "p0_best_bad = pars_bad[0]\n",
    "p1_best_bad = pars_bad[1]\n",
    "cov_bad = result_bad['hess_inv']\n",
    "p0_err_bad = np.sqrt(cov_bad[0,0])\n",
    "p1_err_bad = np.sqrt(cov_bad[1,1])\n",
    "correl_bad = cov_bad[1,0]/(p0_err_bad*p1_err_bad)\n",
    "\n",
    "print(\"\")\n",
    "print(\"Human readable version: bad idea ---------------\")\n",
    "print(\"  Minimum value of cost function: %.1f\" % fmin_bad)\n",
    "print(\"  Minimum value of chi**2: %.1f\" % (2*fmin_bad))\n",
    "print(\"  p0 best fit: %.1f +- %.1f counts\" % (p0_best_bad, p0_err_bad))\n",
    "print(\"  p1 best fit: %.1f +- %.1f counts / year\" % (p1_best_bad, p1_err_bad))\n",
    "print(\"  Correlation between p0 and p1: %.2f\" % correl_bad)"
   ]
  },
  {
   "cell_type": "code",
   "execution_count": null,
   "id": "78ee1cc9",
   "metadata": {},
   "outputs": [],
   "source": [
    "_ = plt.xlabel(r\"$p_0$ = Offset [counts]\")\n",
    "_ = plt.ylabel(r\"$p_1$ = Slope [counts/year]\")\n",
    "\n",
    "chi2_2d_scan_vals_bad = np.zeros((nx, ny))\n",
    "offset_scan_points = np.linspace(-10., 10., nx)\n",
    "slope_scan_points = np.linspace(-5., 5., ny)\n",
    "\n",
    "# Double loop for 2d scan\n",
    "for i in range(nx):\n",
    "    params[0] = offset_scan_points[i]\n",
    "    for j in range(ny):\n",
    "        params[1] = slope_scan_points[j]\n",
    "        chi2_2d_scan_vals_bad[i,j] = chi2_function(years_since_2008, excess_counts, sigma_counts,\n",
    "                                                   linear_function, params)\n",
    "\n",
    "min_chi2_bad = chi2_2d_scan_vals_bad.min()\n",
    "chi2_2d_scan_vals_bad -= min_chi2_bad\n",
    "\n",
    "# Now let's plot it.\n",
    "_ = plt.imshow(chi2_2d_scan_vals_bad.T, extent=(-10, 10, -5, 5), aspect='auto', origin='lower')\n",
    "_ = plt.colorbar(label=r\"$\\Delta \\chi^2$\")\n",
    "_ = plt.contour(offset_scan_points, slope_scan_points, chi2_2d_scan_vals_bad.T, levels=[1, 4, 9], colors=\"white\")\n",
    "_ = plt.errorbar(p0_best_bad, p1_best_bad, xerr=p0_err_bad, yerr=p1_err_bad, color='cyan')\n",
    "#_ = plt.errorbar(p0_best, p1_best, xerr=p0_err, yerr=p1_err, color='yellow')\n",
    "\n",
    "print(\"Best fit value is %0.1f for (%0.1f +- %0.1f, %0.1f +- %0.1f)\" % \n",
    "          (min_chi2_bad, p0_best_bad, p0_err_bad, p1_best_bad, p1_err_bad))\n",
    "\n",
    "print(\"Best fit value is %0.1f for (%0.1f +- %0.1f, %0.1f +- %0.1f)\" % \n",
    "          (min_chi2, p0_best, p0_err, p1_best, p1_err))\n",
    "\n",
    "print(\"Original correlation was %.2f, now it is %.2f\" % (correl, correl_bad))"
   ]
  },
  {
   "cell_type": "code",
   "execution_count": null,
   "id": "4bc2a5d5",
   "metadata": {},
   "outputs": [],
   "source": []
  },
  {
   "cell_type": "code",
   "execution_count": null,
   "id": "cec721cc",
   "metadata": {},
   "outputs": [],
   "source": []
  },
  {
   "cell_type": "code",
   "execution_count": null,
   "id": "edd1319b",
   "metadata": {},
   "outputs": [],
   "source": []
  }
 ],
 "metadata": {
  "kernelspec": {
   "display_name": "Python 3",
   "language": "python",
   "name": "python3"
  },
  "language_info": {
   "codemirror_mode": {
    "name": "ipython",
    "version": 3
   },
   "file_extension": ".py",
   "mimetype": "text/x-python",
   "name": "python",
   "nbconvert_exporter": "python",
   "pygments_lexer": "ipython3",
   "version": "3.8.10"
  }
 },
 "nbformat": 4,
 "nbformat_minor": 5
}
