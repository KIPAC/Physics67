{
 "cells": [
  {
   "cell_type": "code",
   "execution_count": 8,
   "id": "98b03fab",
   "metadata": {},
   "outputs": [],
   "source": [
    "%matplotlib inline\n",
    "import matplotlib.pyplot as plt\n",
    "import numpy as np\n",
    "import scipy.stats as scipy\n",
    "import datetime"
   ]
  },
  {
   "cell_type": "markdown",
   "id": "822b19dd",
   "metadata": {},
   "source": [
    "# Let's do a simple search for dark matter\n",
    "\n",
    "\n",
    "In the last notebook, we learned about cuts, signal acceptance, and background rejection while comparing neutron (signal-like) calibration data and $\\beta$ (background-like) calibration data. Now, let's put these together and try to do a simple search for dark matter. \n",
    "\n",
    "We're now going to look at a single file of data, collected from a simulated detector exposure. Now, we don't have any prior knowledge about which events are signal-like and which are background-like - they're all lumped together into one dataset now. <b>And remember: dark matter may or may not be able to scatter on normal nuclei, so it's not a certainty that there are even ANY signal-like events in this dataset!</b> "
   ]
  },
  {
   "cell_type": "markdown",
   "id": "e6f7f431",
   "metadata": {},
   "source": [
    "I'm including here the acceptance and leakage plots from the previous notebook, for you to reference.\n",
    "\n",
    "<img src=\"figures/Leakage.png\" width=\"400\"/>"
   ]
  },
  {
   "cell_type": "code",
   "execution_count": 9,
   "id": "421caabc",
   "metadata": {},
   "outputs": [
    {
     "name": "stdout",
     "output_type": "stream",
     "text": [
      "Number of total events recorded in observing period:  300\n"
     ]
    },
    {
     "data": {
      "image/png": "[encoded data removed]",
      "text/plain": [
       "<Figure size 432x288 with 1 Axes>"
      ]
     },
     "metadata": {
      "needs_background": "light"
     },
     "output_type": "display_data"
    }
   ],
   "source": [
    "#First, load in the data from our DM search\n",
    "DMSearch_data = np.loadtxt(open(\"../data/DMSearch_data.txt\",'r')) #DON'T LOOK IN THIS FILE UNTIL END OF THE NOTEBOOK!\n",
    "\n",
    "#Take the S2 values from the search data and plot in a histogram.\n",
    "data_logS2Bins = np.linspace(1,5,100)\n",
    "data_logS2 = np.log10(DMSearch_data[:])\n",
    "\n",
    "print(\"Number of total events recorded in observing period: \", data_logS2.size)\n",
    "\n",
    "#Plot these events \n",
    "_ = plt.hist(data_logS2, bins=data_logS2Bins,fc=(0, 0, 0, 0.3))\n",
    "_ = plt.xlabel(r'Log(S2 size)')\n",
    "_ = plt.ylabel(r'Counts per bin')\n",
    "_ = plt.yscale('log')"
   ]
  },
  {
   "cell_type": "markdown",
   "id": "13850406",
   "metadata": {},
   "source": [
    "# Questions for Discussion\n",
    "\n",
    "5.1 What are your first impressions here? If some dark matter events are in this plot, where would they show up? Can you conclude on first sight that we have or have not found dark matter? If yes, how many dark matter events do you think we've seen?\n",
    "\n",
    "Let's now use the cut on Log(S2) (i.e., $X_{c}$) that you chose in the last lab to cut away the events we think are likely to be background. Plug in your cut value into the \"myCutValue_Xc\" variable in the code below.\n",
    "\n",
    "<b>Side note: it is important that you do not change your cut value now that you've seen the dark matter search data. If you do, you will introduce bias into your result.</b> (Disclaimer: you will not be graded on your ability to choose an excellent cut, so please just play along with this anti-bias measure ;) )"
   ]
  },
  {
   "cell_type": "code",
   "execution_count": 4,
   "id": "cacdfba1",
   "metadata": {},
   "outputs": [],
   "source": [
    "#Function we use to help us cut away events with S2s above a certain threshold cutVal\n",
    "def CutEvents(eventList,cutVal):\n",
    "    \n",
    "    #Sort events by Log(S2) to make the cut easier\n",
    "    cutEventList = eventList\n",
    "    cutEventList.sort()\n",
    "    \n",
    "    #Loop through elements and remove those above the cut value\n",
    "    counter = 0\n",
    "    for event in cutEventList:\n",
    "        if(event > cutVal):\n",
    "            cutEventList = np.delete(cutEventList,np.s_[counter:])\n",
    "            break\n",
    "        counter = counter + 1\n",
    "    \n",
    "    return cutEventList"
   ]
  },
  {
   "cell_type": "markdown",
   "id": "44cfd2d4",
   "metadata": {},
   "source": [
    "Plug in your cut value from the last notebook in the first line here."
   ]
  },
  {
   "cell_type": "code",
   "execution_count": 13,
   "id": "211c43a9",
   "metadata": {},
   "outputs": [
    {
     "ename": "TypeError",
     "evalue": "'>' not supported between instances of 'float' and 'NoneType'",
     "output_type": "error",
     "traceback": [
      "\u001b[0;31m---------------------------------------------------------------------------\u001b[0m",
      "\u001b[0;31mTypeError\u001b[0m                                 Traceback (most recent call last)",
      "\u001b[0;32m<ipython-input-13-eafc1a16bf6a>\u001b[0m in \u001b[0;36m<module>\u001b[0;34m\u001b[0m\n\u001b[1;32m      4\u001b[0m \u001b[0;34m\u001b[0m\u001b[0m\n\u001b[1;32m      5\u001b[0m \u001b[0;31m#Loop through elements and remove those above the cut value\u001b[0m\u001b[0;34m\u001b[0m\u001b[0;34m\u001b[0m\u001b[0;34m\u001b[0m\u001b[0m\n\u001b[0;32m----> 6\u001b[0;31m \u001b[0mdata_logS2_afterCut\u001b[0m \u001b[0;34m=\u001b[0m \u001b[0mCutEvents\u001b[0m\u001b[0;34m(\u001b[0m\u001b[0mdata_logS2\u001b[0m\u001b[0;34m,\u001b[0m\u001b[0mmyCutValue_Xc\u001b[0m\u001b[0;34m)\u001b[0m\u001b[0;34m\u001b[0m\u001b[0;34m\u001b[0m\u001b[0m\n\u001b[0m\u001b[1;32m      7\u001b[0m \u001b[0;34m\u001b[0m\u001b[0m\n\u001b[1;32m      8\u001b[0m \u001b[0m_\u001b[0m \u001b[0;34m=\u001b[0m \u001b[0mplt\u001b[0m\u001b[0;34m.\u001b[0m\u001b[0mhist\u001b[0m\u001b[0;34m(\u001b[0m\u001b[0mdata_logS2_afterCut\u001b[0m\u001b[0;34m,\u001b[0m \u001b[0mbins\u001b[0m\u001b[0;34m=\u001b[0m\u001b[0mdata_logS2Bins\u001b[0m\u001b[0;34m,\u001b[0m\u001b[0mfc\u001b[0m\u001b[0;34m=\u001b[0m\u001b[0;34m(\u001b[0m\u001b[0;36m0\u001b[0m\u001b[0;34m,\u001b[0m \u001b[0;36m0\u001b[0m\u001b[0;34m,\u001b[0m \u001b[0;36m0\u001b[0m\u001b[0;34m,\u001b[0m \u001b[0;36m0.3\u001b[0m\u001b[0;34m)\u001b[0m\u001b[0;34m)\u001b[0m\u001b[0;34m\u001b[0m\u001b[0;34m\u001b[0m\u001b[0m\n",
      "\u001b[0;32m<ipython-input-4-4fe40d1a032d>\u001b[0m in \u001b[0;36mCutEvents\u001b[0;34m(eventList, cutVal)\u001b[0m\n\u001b[1;32m      9\u001b[0m     \u001b[0mcounter\u001b[0m \u001b[0;34m=\u001b[0m \u001b[0;36m0\u001b[0m\u001b[0;34m\u001b[0m\u001b[0;34m\u001b[0m\u001b[0m\n\u001b[1;32m     10\u001b[0m     \u001b[0;32mfor\u001b[0m \u001b[0mevent\u001b[0m \u001b[0;32min\u001b[0m \u001b[0mcutEventList\u001b[0m\u001b[0;34m:\u001b[0m\u001b[0;34m\u001b[0m\u001b[0;34m\u001b[0m\u001b[0m\n\u001b[0;32m---> 11\u001b[0;31m         \u001b[0;32mif\u001b[0m\u001b[0;34m(\u001b[0m\u001b[0mevent\u001b[0m \u001b[0;34m>\u001b[0m \u001b[0mcutVal\u001b[0m\u001b[0;34m)\u001b[0m\u001b[0;34m:\u001b[0m\u001b[0;34m\u001b[0m\u001b[0;34m\u001b[0m\u001b[0m\n\u001b[0m\u001b[1;32m     12\u001b[0m             \u001b[0mcutEventList\u001b[0m \u001b[0;34m=\u001b[0m \u001b[0mnp\u001b[0m\u001b[0;34m.\u001b[0m\u001b[0mdelete\u001b[0m\u001b[0;34m(\u001b[0m\u001b[0mcutEventList\u001b[0m\u001b[0;34m,\u001b[0m\u001b[0mnp\u001b[0m\u001b[0;34m.\u001b[0m\u001b[0ms_\u001b[0m\u001b[0;34m[\u001b[0m\u001b[0mcounter\u001b[0m\u001b[0;34m:\u001b[0m\u001b[0;34m]\u001b[0m\u001b[0;34m)\u001b[0m\u001b[0;34m\u001b[0m\u001b[0;34m\u001b[0m\u001b[0m\n\u001b[1;32m     13\u001b[0m             \u001b[0;32mbreak\u001b[0m\u001b[0;34m\u001b[0m\u001b[0;34m\u001b[0m\u001b[0m\n",
      "\u001b[0;31mTypeError\u001b[0m: '>' not supported between instances of 'float' and 'NoneType'"
     ]
    }
   ],
   "source": [
    "#Plug in your cut value from last lab here!\n",
    "myCutValue_Xc = None\n",
    "\n",
    "\n",
    "#Loop through elements and remove those above the cut value\n",
    "data_logS2_afterCut = CutEvents(data_logS2,myCutValue_Xc)\n",
    "\n",
    "_ = plt.hist(data_logS2_afterCut, bins=data_logS2Bins,fc=(0, 0, 0, 0.3))\n",
    "_ = plt.xlabel(r'Log(S2 size)')\n",
    "_ = plt.ylabel(r'Counts per bin')\n",
    "_ = plt.yscale('linear')\n",
    "\n",
    "print(\"Number of dark matter search events, prior to cut: \",data_logS2.size)\n",
    "print(\"Number of dark matter search events remaining after cut: \", data_logS2_afterCut.size)"
   ]
  },
  {
   "cell_type": "markdown",
   "id": "19ff8618",
   "metadata": {},
   "source": [
    "5.2 When you apply the cut, how many events, $N_{ROI}$, survive? "
   ]
  },
  {
   "cell_type": "markdown",
   "id": "e317a90d",
   "metadata": {},
   "source": [
    "# Complete this section if you have more than zero remaining events\n",
    "\n",
    "Okay, so some events survived your cut. Now let's see how statistically significant your $N_{ROI}$ is. \n",
    "\n",
    "It's fair to assume that the vast majority of all observed events (pre-cut) are background, so let's approximate the total number of background events by the total number of observed events. \n",
    "\n",
    "5.3a What is the average number of background events $N_{ex}$ you expect to leak below your cut value? (This can be a non-integer number.) Hint: you will need to look at the background leakage curve at the top of this notebook, with a knowledge of how many overall events there were.\n",
    "\n",
    "Now, suppose the probability of observing $N$ background events in this window follows a Poisson distribution with a mean of $N_{ex}$. \n",
    "\n",
    "Plug your $N_{ex}$ into the following code, in the first line below."
   ]
  },
  {
   "cell_type": "code",
   "execution_count": 17,
   "id": "dc314da8",
   "metadata": {},
   "outputs": [
    {
     "ename": "TypeError",
     "evalue": "'>=' not supported between instances of 'NoneType' and 'int'",
     "output_type": "error",
     "traceback": [
      "\u001b[0;31m---------------------------------------------------------------------------\u001b[0m",
      "\u001b[0;31mTypeError\u001b[0m                                 Traceback (most recent call last)",
      "\u001b[0;32m<ipython-input-17-de9de385145b>\u001b[0m in \u001b[0;36m<module>\u001b[0;34m\u001b[0m\n\u001b[1;32m      2\u001b[0m \u001b[0mN_ex\u001b[0m \u001b[0;34m=\u001b[0m \u001b[0;32mNone\u001b[0m\u001b[0;34m\u001b[0m\u001b[0;34m\u001b[0m\u001b[0m\n\u001b[1;32m      3\u001b[0m \u001b[0mN_ROI\u001b[0m \u001b[0;34m=\u001b[0m \u001b[0mdata_logS2_afterCut\u001b[0m\u001b[0;34m.\u001b[0m\u001b[0msize\u001b[0m\u001b[0;34m\u001b[0m\u001b[0;34m\u001b[0m\u001b[0m\n\u001b[0;32m----> 4\u001b[0;31m \u001b[0mprobability_from_background\u001b[0m \u001b[0;34m=\u001b[0m \u001b[0mscipy\u001b[0m\u001b[0;34m.\u001b[0m\u001b[0mpoisson\u001b[0m\u001b[0;34m.\u001b[0m\u001b[0msf\u001b[0m\u001b[0;34m(\u001b[0m\u001b[0mN_ROI\u001b[0m\u001b[0;34m,\u001b[0m\u001b[0mN_ex\u001b[0m\u001b[0;34m)\u001b[0m\u001b[0;34m\u001b[0m\u001b[0;34m\u001b[0m\u001b[0m\n\u001b[0m\u001b[1;32m      5\u001b[0m \u001b[0mprint\u001b[0m\u001b[0;34m(\u001b[0m\u001b[0;34m\"Probability of getting N_ROI events from just background fluctuations: \"\u001b[0m\u001b[0;34m,\u001b[0m \u001b[0mprobability_from_background\u001b[0m\u001b[0;34m)\u001b[0m\u001b[0;34m\u001b[0m\u001b[0;34m\u001b[0m\u001b[0m\n",
      "\u001b[0;32m~/opt/anaconda3/lib/python3.8/site-packages/scipy/stats/_distn_infrastructure.py\u001b[0m in \u001b[0;36msf\u001b[0;34m(self, k, *args, **kwds)\u001b[0m\n\u001b[1;32m   3259\u001b[0m         \u001b[0m_a\u001b[0m\u001b[0;34m,\u001b[0m \u001b[0m_b\u001b[0m \u001b[0;34m=\u001b[0m \u001b[0mself\u001b[0m\u001b[0;34m.\u001b[0m\u001b[0m_get_support\u001b[0m\u001b[0;34m(\u001b[0m\u001b[0;34m*\u001b[0m\u001b[0margs\u001b[0m\u001b[0;34m)\u001b[0m\u001b[0;34m\u001b[0m\u001b[0;34m\u001b[0m\u001b[0m\n\u001b[1;32m   3260\u001b[0m         \u001b[0mk\u001b[0m \u001b[0;34m=\u001b[0m \u001b[0masarray\u001b[0m\u001b[0;34m(\u001b[0m\u001b[0mk\u001b[0m\u001b[0;34m-\u001b[0m\u001b[0mloc\u001b[0m\u001b[0;34m)\u001b[0m\u001b[0;34m\u001b[0m\u001b[0;34m\u001b[0m\u001b[0m\n\u001b[0;32m-> 3261\u001b[0;31m         \u001b[0mcond0\u001b[0m \u001b[0;34m=\u001b[0m \u001b[0mself\u001b[0m\u001b[0;34m.\u001b[0m\u001b[0m_argcheck\u001b[0m\u001b[0;34m(\u001b[0m\u001b[0;34m*\u001b[0m\u001b[0margs\u001b[0m\u001b[0;34m)\u001b[0m\u001b[0;34m\u001b[0m\u001b[0;34m\u001b[0m\u001b[0m\n\u001b[0m\u001b[1;32m   3262\u001b[0m         \u001b[0mcond1\u001b[0m \u001b[0;34m=\u001b[0m \u001b[0;34m(\u001b[0m\u001b[0mk\u001b[0m \u001b[0;34m>=\u001b[0m \u001b[0m_a\u001b[0m\u001b[0;34m)\u001b[0m \u001b[0;34m&\u001b[0m \u001b[0;34m(\u001b[0m\u001b[0mk\u001b[0m \u001b[0;34m<\u001b[0m \u001b[0m_b\u001b[0m\u001b[0;34m)\u001b[0m\u001b[0;34m\u001b[0m\u001b[0;34m\u001b[0m\u001b[0m\n\u001b[1;32m   3263\u001b[0m         \u001b[0mcond2\u001b[0m \u001b[0;34m=\u001b[0m \u001b[0;34m(\u001b[0m\u001b[0mk\u001b[0m \u001b[0;34m<\u001b[0m \u001b[0m_a\u001b[0m\u001b[0;34m)\u001b[0m \u001b[0;34m&\u001b[0m \u001b[0mcond0\u001b[0m\u001b[0;34m\u001b[0m\u001b[0;34m\u001b[0m\u001b[0m\n",
      "\u001b[0;32m~/opt/anaconda3/lib/python3.8/site-packages/scipy/stats/_discrete_distns.py\u001b[0m in \u001b[0;36m_argcheck\u001b[0;34m(self, mu)\u001b[0m\n\u001b[1;32m    755\u001b[0m     \u001b[0;31m# Override rv_discrete._argcheck to allow mu=0.\u001b[0m\u001b[0;34m\u001b[0m\u001b[0;34m\u001b[0m\u001b[0;34m\u001b[0m\u001b[0m\n\u001b[1;32m    756\u001b[0m     \u001b[0;32mdef\u001b[0m \u001b[0m_argcheck\u001b[0m\u001b[0;34m(\u001b[0m\u001b[0mself\u001b[0m\u001b[0;34m,\u001b[0m \u001b[0mmu\u001b[0m\u001b[0;34m)\u001b[0m\u001b[0;34m:\u001b[0m\u001b[0;34m\u001b[0m\u001b[0;34m\u001b[0m\u001b[0m\n\u001b[0;32m--> 757\u001b[0;31m         \u001b[0;32mreturn\u001b[0m \u001b[0mmu\u001b[0m \u001b[0;34m>=\u001b[0m \u001b[0;36m0\u001b[0m\u001b[0;34m\u001b[0m\u001b[0;34m\u001b[0m\u001b[0m\n\u001b[0m\u001b[1;32m    758\u001b[0m \u001b[0;34m\u001b[0m\u001b[0m\n\u001b[1;32m    759\u001b[0m     \u001b[0;32mdef\u001b[0m \u001b[0m_rvs\u001b[0m\u001b[0;34m(\u001b[0m\u001b[0mself\u001b[0m\u001b[0;34m,\u001b[0m \u001b[0mmu\u001b[0m\u001b[0;34m,\u001b[0m \u001b[0msize\u001b[0m\u001b[0;34m=\u001b[0m\u001b[0;32mNone\u001b[0m\u001b[0;34m,\u001b[0m \u001b[0mrandom_state\u001b[0m\u001b[0;34m=\u001b[0m\u001b[0;32mNone\u001b[0m\u001b[0;34m)\u001b[0m\u001b[0;34m:\u001b[0m\u001b[0;34m\u001b[0m\u001b[0;34m\u001b[0m\u001b[0m\n",
      "\u001b[0;31mTypeError\u001b[0m: '>=' not supported between instances of 'NoneType' and 'int'"
     ]
    }
   ],
   "source": [
    "#Plug in the expected number of events N_ex\n",
    "N_ex = None\n",
    "N_ROI = data_logS2_afterCut.size\n",
    "probability_from_background = scipy.poisson.sf(N_ROI,N_ex)\n",
    "print(\"Probability of getting N_ROI events from just background fluctuations: \", probability_from_background)"
   ]
  },
  {
   "cell_type": "markdown",
   "id": "acfc2363",
   "metadata": {},
   "source": [
    "5.4a What is the probability that you will see $N_{ROI}$ or more events due to just normal background fluctuations? Can you quote a p-value for observing $N_{ROI}$ under the assumption that only background is present?\n",
    "\n",
    "5.5a In qualitative terms, how confident are you that you discovered dark matter?"
   ]
  },
  {
   "cell_type": "markdown",
   "id": "ff5cec02",
   "metadata": {},
   "source": [
    "# Alternatively, complete this section if you have zero remaining events\n",
    "\n",
    "Okay, so you have zero remaining events. This suggests that you did not observe dark matter with your experiment. However, this does not mean that the results are not meaningful or exciting.\n",
    "\n",
    "5.3b Does the fact that you have zero remaining events after your cut mean that that we're certain dark matter didn't scatter in your detector? Why or why not? Refer the signal acceptance plot in your answer.\n",
    "\n",
    "5.4b How is a null result (one where you don't find dark matter) useful for understanding the properties of dark matter?"
   ]
  },
  {
   "cell_type": "markdown",
   "id": "89da650e",
   "metadata": {},
   "source": [
    "# Was there actually dark matter in the simulated dataset? \n",
    "\n",
    "Once you get to this point, please ask Eric, Ryan, or Ben for spoilers! (Of course, none of them actually knows if there REALLY will be dark matter seen in LUX-ZEPLIN, but stay tuned!)"
   ]
  },
  {
   "cell_type": "code",
   "execution_count": null,
   "id": "a5769187",
   "metadata": {},
   "outputs": [],
   "source": []
  }
 ],
 "metadata": {
  "kernelspec": {
   "display_name": "Python 3",
   "language": "python",
   "name": "python3"
  },
  "language_info": {
   "codemirror_mode": {
    "name": "ipython",
    "version": 3
   },
   "file_extension": ".py",
   "mimetype": "text/x-python",
   "name": "python",
   "nbconvert_exporter": "python",
   "pygments_lexer": "ipython3",
   "version": "3.8.8"
  }
 },
 "nbformat": 4,
 "nbformat_minor": 5
}
