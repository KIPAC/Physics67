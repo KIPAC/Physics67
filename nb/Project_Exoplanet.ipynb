{
 "cells": [
  {
   "cell_type": "code",
   "execution_count": null,
   "id": "b93fb63d",
   "metadata": {},
   "outputs": [],
   "source": [
    "%matplotlib inline\n",
    "import matplotlib.pyplot as plt\n",
    "import numpy as np\n",
    "import scipy.stats as stats\n",
    "import scipy.optimize as optimize\n",
    "import datetime"
   ]
  },
  {
   "cell_type": "code",
   "execution_count": null,
   "id": "6b6683fd",
   "metadata": {},
   "outputs": [],
   "source": [
    "data = np.loadtxt(open(\"../data/51peg_model_rvs.txt\", 'rb'), usecols=range(2))\n",
    "\n",
    "# This is how we pull out the data from columns in the array.\n",
    "date = data[:,0]\n",
    "rvel = data[:,1] + 0.01 * stats.norm(loc=0, scale=50).rvs(size=len(date))\n",
    "#rvel_err = data[:,2]"
   ]
  },
  {
   "cell_type": "code",
   "execution_count": null,
   "id": "99ed3c9c",
   "metadata": {},
   "outputs": [],
   "source": [
    "#_ = plt.errorbar(date, rvel, yerr=rvel_err, fmt='.')\n",
    "_ = plt.scatter(date, rvel)"
   ]
  },
  {
   "cell_type": "code",
   "execution_count": null,
   "id": "e625cf02",
   "metadata": {},
   "outputs": [],
   "source": [
    "from scipy.fft import fft, fftfreq"
   ]
  },
  {
   "cell_type": "code",
   "execution_count": null,
   "id": "e880b244",
   "metadata": {},
   "outputs": [],
   "source": [
    "# Number of sample points\n",
    "N = len(date)\n",
    "\n",
    "# Arbitrary offset in data\n",
    "offset = np.mean(rvel)\n",
    "\n",
    "# sample spacing\n",
    "\n",
    "T = np.mean(date[1:] - date[0:-1])\n",
    "\n",
    "yf = fft(rvel-offset)\n",
    "\n",
    "xf = fftfreq(N, T)[:N//2]\n",
    "\n",
    "_ = plt.plot(xf, 2.0/N * np.abs(yf[0:N//2]))\n",
    "\n",
    "_ = plt.ylabel(\"Signal at Frequency [a.u.]\")\n",
    "_ = plt.xlabel(r\"Frequency [${\\rm days}^{-1}$]\")\n",
    "\n",
    "freq_max = xf[np.argmax(np.abs(yf[0:N//2]))]\n",
    "period = 1./freq_max\n",
    "\n",
    "_ = plt.annotate(r\"$f \\sim %0.2f {\\rm days}^{-1}$\" % freq_max, (2.0, 35))\n",
    "_ = plt.annotate(r\"$P \\sim %0.2f {\\rm days}$\" % period, (2.0, 32))"
   ]
  },
  {
   "cell_type": "code",
   "execution_count": null,
   "id": "62ab0a65",
   "metadata": {},
   "outputs": [],
   "source": [
    "data = np.loadtxt(open(\"../data/Vela_Flux.txt\", 'rb'), usecols=range(7))\n",
    "\n",
    "# This is how we pull out the data from columns in the array.\n",
    "\n",
    "# This is the date in \"Mission Elapsesd Time\"\n",
    "# For the Fermi mission, this is defined to be the number of seconds since the start of 2001.\n",
    "date_MET = data[:,0]\n",
    "# This is the offset in seconds between the Fermi \"MET\" and the UNIX \"epoch\" used by matplotlib\n",
    "MET_To_Unix = 978336000\n",
    "\n",
    "# These are the numbers of photons observed from Vela each week in the \"low\" Energy Band (100 MeV - 800 MeV)\n",
    "nObs_LE = data[:,1]\n",
    "\n",
    "# These are the number of photons expected from Vela each week, under the assumption that it is \n",
    "# not varying at all, and the only differences depend on how long we spent looking at Vela\n",
    "# that particular weeek\n",
    "nExp_LE = data[:,2]\n",
    "\n",
    "# These are the band bounds, in MeV\n",
    "LE_bounds = (100., 800.)\n",
    "\n",
    "# This is the \"significance\" of the variation for each week.  We will discuss this more later\n",
    "signif_LE = data[:,3]\n",
    "\n",
    "#nObs_HE = data[:,4]\n",
    "#nExp_HE = data[:,5]\n",
    "#signif_HE = data[:6]\n",
    "#HE_bounds = (800., 10000.)\n",
    "\n",
    "dates = [datetime.datetime.fromtimestamp(date + MET_To_Unix) for date in date_MET]\n"
   ]
  },
  {
   "cell_type": "code",
   "execution_count": null,
   "id": "12dd89e0",
   "metadata": {},
   "outputs": [],
   "source": [
    "# Number of sample points\n",
    "N = len(date_MET)\n",
    "\n",
    "# Arbitrary offset in data\n",
    "offset = 0.\n",
    "\n",
    "# sample spacing\n",
    "\n",
    "T = np.mean(date_MET[1:] - date_MET[0:-1])/(24*3600)\n",
    "\n",
    "yf = fft(signif_LE-offset)\n",
    "\n",
    "xf = fftfreq(N, T)[:N//2]\n",
    "\n",
    "_ = plt.plot(xf, 2.0/N * np.abs(yf[0:N//2]))\n",
    "\n",
    "_ = plt.ylabel(\"Signal at Frequency [a.u.]\")\n",
    "_ = plt.xlabel(r\"Frequency [${\\rm days}^{-1}$]\")\n",
    "\n",
    "max_idx = np.argmax(np.abs(yf[0:N//2]))\n",
    "freq_max = xf[max_idx]\n",
    "period = 1./freq_max\n",
    "\n",
    "_ = plt.ylim(0, 0.30)\n",
    "#_ = plt.annotate(r\"$f \\sim %0.2E {\\rm days}^{-1}$\" % freq_max, (0.02, 0.27))\n",
    "_ = plt.annotate(r\"$P \\sim %0.0f {\\rm days}$\" % period, (0.02, 0.25))\n",
    "\n",
    "freq_max = xf[np.argmax(np.abs(yf[0:max_idx-1]))]\n",
    "period = 1./freq_max\n",
    "\n",
    "#_ = plt.annotate(r\"$f \\sim %0.2E {\\rm days}^{-1}$\" % freq_max, (0.00, 0.22))\n",
    "_ = plt.annotate(r\"$P \\sim %0.0f {\\rm days}$\" % period, (0.00, 0.20))\n"
   ]
  },
  {
   "cell_type": "code",
   "execution_count": null,
   "id": "8728575d",
   "metadata": {},
   "outputs": [],
   "source": []
  },
  {
   "cell_type": "code",
   "execution_count": null,
   "id": "fea3456f",
   "metadata": {},
   "outputs": [],
   "source": []
  }
 ],
 "metadata": {
  "kernelspec": {
   "display_name": "Python 3",
   "language": "python",
   "name": "python3"
  },
  "language_info": {
   "codemirror_mode": {
    "name": "ipython",
    "version": 3
   },
   "file_extension": ".py",
   "mimetype": "text/x-python",
   "name": "python",
   "nbconvert_exporter": "python",
   "pygments_lexer": "ipython3",
   "version": "3.8.10"
  }
 },
 "nbformat": 4,
 "nbformat_minor": 5
}
