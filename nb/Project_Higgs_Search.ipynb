{
 "cells": [
  {
   "cell_type": "code",
   "execution_count": null,
   "id": "4420be79",
   "metadata": {},
   "outputs": [],
   "source": [
    "%matplotlib inline\n",
    "import matplotlib.pyplot as plt\n",
    "import numpy as np\n",
    "import scipy.stats as sps"
   ]
  },
  {
   "cell_type": "code",
   "execution_count": null,
   "id": "550e92d9",
   "metadata": {},
   "outputs": [],
   "source": []
  },
  {
   "cell_type": "code",
   "execution_count": null,
   "id": "86efca62",
   "metadata": {},
   "outputs": [],
   "source": [
    "Higgs_Mass = 125.1  # In Units of MeV / c**2\n",
    "Higgs_Width = 4.2   # In Units of MeV / c**2\n",
    "\n",
    "mass_grid = np.linspace(100., 160., 61)"
   ]
  },
  {
   "cell_type": "code",
   "execution_count": null,
   "id": "84046a8f",
   "metadata": {},
   "outputs": [],
   "source": [
    "from functools import partial\n",
    "\n",
    "def Gauss(x, nsig, mu, sigma):\n",
    "    return nsig*sps.norm(loc=mu, scale=sigma).pdf(x)\n",
    "\n",
    "def poly1(x, ref_mass, offset, slope):\n",
    "    return offset + (x-ref_mass)*slope\n",
    "\n",
    "def model_func(x, ref_mass, nsig, mu, sigma, offset, slope):\n",
    "    return Gauss(x, nsig, mu, sigma) + poly1(x, ref_mass, offset, slope)\n",
    "\n",
    "def generic_chi2(params, data_vals, model, x, ref_mass):\n",
    "    model_vals = model(x, ref_mass, *params)\n",
    "    return np.sum((data_vals - model_vals)**2)\n",
    "\n",
    "def cost_func(data_vals, model, x, ref_mass):\n",
    "    return partial(generic_chi2, data_vals=data_vals, model=model, x=x, ref_mass=ref_mass)"
   ]
  },
  {
   "cell_type": "code",
   "execution_count": null,
   "id": "cf28f491",
   "metadata": {},
   "outputs": [],
   "source": [
    "def passed_cuts(cut_width, mass_grid, model_sig, model_bkg):\n",
    "    mask = np.abs(mass_grid - 125) < cut_width\n",
    "    n_sig = np.sum(model_sig[mask])\n",
    "    n_bkg = np.sum(model_bkg[mask])\n",
    "    return n_sig, n_bkg"
   ]
  },
  {
   "cell_type": "code",
   "execution_count": null,
   "id": "d7941faa",
   "metadata": {},
   "outputs": [],
   "source": [
    "def plot_nexp(mass_grid, model_sig, model_bkg):\n",
    "    sig_cts = np.zeros(26)\n",
    "    bkg_cts = np.zeros(26)\n",
    "    widths = np.linspace(0, 25, 26)\n",
    "    for i, width in enumerate(widths):\n",
    "        sig_cts[i], bkg_cts[i] = passed_cuts(width, mass_grid, model_sig, model_bkg)\n",
    "    _ = plt.plot(widths, sig_cts)\n",
    "    _ = plt.plot(widths, bkg_cts)\n",
    "    _ = plt.yscale('log')"
   ]
  },
  {
   "cell_type": "code",
   "execution_count": null,
   "id": "a283e27e",
   "metadata": {},
   "outputs": [],
   "source": [
    "def find_sig2noise(mass_grid, model_sig, model_bkg, plot=True):\n",
    "    sig_cts = np.zeros(26)\n",
    "    bkg_cts = np.zeros(26)\n",
    "    widths = np.linspace(0, 25, 26)\n",
    "    for i, width in enumerate(widths):\n",
    "        if i == 0:\n",
    "            continue\n",
    "        sig_cts[i], bkg_cts[i] = passed_cuts(width, mass_grid, model_sig, model_bkg)\n",
    "    sig2noise = np.zeros(26)\n",
    "    sig2noise[1:] = sig_cts[1:]/np.sqrt(bkg_cts[1:])\n",
    "    if plot:\n",
    "        _ = plt.plot(widths, sig_cts/np.sqrt(bkg_cts))\n",
    "    return sig2noise"
   ]
  },
  {
   "cell_type": "code",
   "execution_count": null,
   "id": "b28f047e",
   "metadata": {},
   "outputs": [],
   "source": [
    "ref_mass = 130.\n",
    "nsig_per_month = 30.\n",
    "nbkg_per_mev_per_month = 40.\n",
    "bkg_slope_per_mev_per_month = -0.2"
   ]
  },
  {
   "cell_type": "code",
   "execution_count": null,
   "id": "a34df051",
   "metadata": {},
   "outputs": [],
   "source": [
    "model_bkg = poly1(mass_grid, ref_mass, nbkg_per_mev_per_month, bkg_slope_per_mev_per_month)\n",
    "model_sig = Gauss(mass_grid, nsig_per_month, Higgs_Mass, Higgs_Width)"
   ]
  },
  {
   "cell_type": "code",
   "execution_count": null,
   "id": "fb70697a",
   "metadata": {},
   "outputs": [],
   "source": [
    "_ = plt.plot(mass_grid, model_sig)\n",
    "_ = plt.plot(mass_grid, model_bkg)"
   ]
  },
  {
   "cell_type": "code",
   "execution_count": null,
   "id": "88e5eae2",
   "metadata": {},
   "outputs": [],
   "source": []
  },
  {
   "cell_type": "code",
   "execution_count": null,
   "id": "d6070efc",
   "metadata": {},
   "outputs": [],
   "source": []
  }
 ],
 "metadata": {
  "kernelspec": {
   "display_name": "Python 3",
   "language": "python",
   "name": "python3"
  },
  "language_info": {
   "codemirror_mode": {
    "name": "ipython",
    "version": 3
   },
   "file_extension": ".py",
   "mimetype": "text/x-python",
   "name": "python",
   "nbconvert_exporter": "python",
   "pygments_lexer": "ipython3",
   "version": "3.8.10"
  }
 },
 "nbformat": 4,
 "nbformat_minor": 5
}
