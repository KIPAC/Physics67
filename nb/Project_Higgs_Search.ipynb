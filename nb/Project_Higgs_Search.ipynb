{
 "cells": [
  {
   "cell_type": "code",
   "execution_count": null,
   "id": "4420be79",
   "metadata": {},
   "outputs": [],
   "source": [
    "%matplotlib inline\n",
    "import matplotlib.pyplot as plt\n",
    "import numpy as np\n",
    "import scipy.stats as sps"
   ]
  },
  {
   "cell_type": "code",
   "execution_count": null,
   "id": "66614ebc",
   "metadata": {},
   "outputs": [],
   "source": []
  },
  {
   "cell_type": "code",
   "execution_count": null,
   "id": "4627b637",
   "metadata": {},
   "outputs": [],
   "source": [
    "xgrid = np.linspace(0., 10., 51)"
   ]
  },
  {
   "cell_type": "code",
   "execution_count": null,
   "id": "86f5de87",
   "metadata": {},
   "outputs": [],
   "source": [
    "nbkg = 40.\n",
    "nsig = 5*np.sqrt(nbkg)"
   ]
  },
  {
   "cell_type": "code",
   "execution_count": null,
   "id": "94034cf6",
   "metadata": {},
   "outputs": [],
   "source": [
    "def plot_trial(nsig, nbkg):\n",
    "    x_cent = 0.5*(xgrid[1:] + xgrid[0:-1])\n",
    "    mask = np.bitwise_and(x_cent > 4.5, x_cent < 5.5)\n",
    "    bkg_model = nbkg*(10./50.)*np.ones((50))\n",
    "    sig_model = nsig*(10./50.)*sps.norm(loc=5.0, scale=0.10).pdf(x_cent)\n",
    "    tot_model = bkg_model + sig_model\n",
    "    fake_data = np.random.poisson(tot_model)\n",
    "    _ = plt.bar(x_cent, fake_data, width=0.2)\n",
    "    plt.xlabel(\"Variable [a.u.]\")\n",
    "    plt.ylabel(\"Counts [per 0.2 a.u.]\")\n",
    "    bkg_exp = bkg_model[mask].sum()\n",
    "    sig_exp = sig_model[mask].sum()\n",
    "    roi_evt = fake_data[mask].sum()\n",
    "    pvalue = sps.poisson(mu=bkg_exp).sf(roi_evt)\n",
    "    signif = sps.norm().isf(pvalue)\n",
    "    plt.title(r\"$n_{\\rm ex} = %0.3f$,  $n_{obs} = %i$,  $p=%0.2e$,  $s=%0.1f\\sigma$\" % (bkg_exp, roi_evt, pvalue, signif))\n",
    "    print(\"Expected background: %0.3f\" % bkg_exp)\n",
    "    print(\"Expected signal:     %0.3f\" % sig_exp)\n",
    "    print(\"Observed events:     %i\" % fake_data[mask].sum())\n",
    "    print(\"P-value:             %0.2e\" % pvalue)\n",
    "    "
   ]
  },
  {
   "cell_type": "code",
   "execution_count": null,
   "id": "dac5b639",
   "metadata": {},
   "outputs": [],
   "source": [
    "def plot_5_sigma(nbkg):\n",
    "    nsig = 5*np.sqrt(nbkg)\n",
    "    plot_trial(nsig, nbkg)"
   ]
  },
  {
   "cell_type": "code",
   "execution_count": null,
   "id": "86eb1c24",
   "metadata": {},
   "outputs": [],
   "source": [
    "plot_5_sigma(10)"
   ]
  },
  {
   "cell_type": "code",
   "execution_count": null,
   "id": "2a5acd60",
   "metadata": {},
   "outputs": [],
   "source": [
    "plot_5_sigma(100)"
   ]
  },
  {
   "cell_type": "code",
   "execution_count": null,
   "id": "2218e8ba",
   "metadata": {},
   "outputs": [],
   "source": [
    "plot_5_sigma(1000)"
   ]
  },
  {
   "cell_type": "code",
   "execution_count": null,
   "id": "16440af6",
   "metadata": {},
   "outputs": [],
   "source": [
    "plot_5_sigma(10000)"
   ]
  },
  {
   "cell_type": "code",
   "execution_count": null,
   "id": "300e22b9",
   "metadata": {},
   "outputs": [],
   "source": [
    "plot_5_sigma(100000)"
   ]
  },
  {
   "cell_type": "code",
   "execution_count": null,
   "id": "550e92d9",
   "metadata": {},
   "outputs": [],
   "source": []
  },
  {
   "cell_type": "code",
   "execution_count": null,
   "id": "86efca62",
   "metadata": {},
   "outputs": [],
   "source": []
  }
 ],
 "metadata": {
  "kernelspec": {
   "display_name": "Python 3",
   "language": "python",
   "name": "python3"
  },
  "language_info": {
   "codemirror_mode": {
    "name": "ipython",
    "version": 3
   },
   "file_extension": ".py",
   "mimetype": "text/x-python",
   "name": "python",
   "nbconvert_exporter": "python",
   "pygments_lexer": "ipython3",
   "version": "3.8.10"
  }
 },
 "nbformat": 4,
 "nbformat_minor": 5
}
