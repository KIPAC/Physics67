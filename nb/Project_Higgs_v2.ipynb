{
 "cells": [
  {
   "cell_type": "code",
   "execution_count": null,
   "id": "4420be79",
   "metadata": {},
   "outputs": [],
   "source": [
    "import os\n",
    "%matplotlib inline\n",
    "import matplotlib.pyplot as plt\n",
    "import numpy as np\n",
    "import scipy.stats as sps\n",
    "import scipy.optimize as optimize"
   ]
  },
  {
   "cell_type": "markdown",
   "id": "61de816d",
   "metadata": {},
   "source": [
    "# Searching for the Higgs boson"
   ]
  },
  {
   "cell_type": "code",
   "execution_count": null,
   "id": "4627b637",
   "metadata": {},
   "outputs": [],
   "source": [
    "Higgs_Mass = 125.1  # In Units of MeV / c**2\n",
    "Higgs_Width = 4.2   # In Units of MeV / c**2\n",
    "\n",
    "mass_grid = np.linspace(90., 160., 71)"
   ]
  },
  {
   "cell_type": "code",
   "execution_count": null,
   "id": "7fd03b26",
   "metadata": {},
   "outputs": [],
   "source": [
    "def passed_cuts(cut_width, masses, model_sig, model_bkg):\n",
    "    mask = np.abs(masses - 125) < cut_width\n",
    "    n_sig = np.sum(model_sig[mask])\n",
    "    n_bkg = np.sum(model_bkg[mask])\n",
    "    return n_sig, n_bkg"
   ]
  },
  {
   "cell_type": "code",
   "execution_count": null,
   "id": "96d30fc2",
   "metadata": {},
   "outputs": [],
   "source": [
    "def plotModels(masses, counts, ref_mass, init_pars):\n",
    "    \n",
    "    model_vals = model_func(masses, counts, ref_mass, *init_pars)\n",
    "    background_vals = poly1(masses, counts, ref_mass, init_pars[3], init_pars[4])\n",
    "\n",
    "    _ = plt.plot(masses, counts, label=\"data\")\n",
    "    _ = plt.plot(masses, background_vals, label=\"background model\")\n",
    "    _ = plt.plot(masses, model_vals, label=\"model\")\n",
    "    _ = plt.xlabel(r'$m [MeV / c^2]$')\n",
    "    _ = plt.ylabel(r'Events [per GeV / $c^2$ / month]')\n",
    "    _ = plt.legend()"
   ]
  },
  {
   "cell_type": "code",
   "execution_count": null,
   "id": "92f80e7b",
   "metadata": {},
   "outputs": [],
   "source": [
    "def plot_nexp_passed_cuts(masses, model_sig, model_bkg):\n",
    "    sig_cts = np.zeros(26)\n",
    "    bkg_cts = np.zeros(26)\n",
    "    widths = np.linspace(0, 25, 26)\n",
    "    for i, width in enumerate(widths):\n",
    "        sig_cts[i], bkg_cts[i] = passed_cuts(width, masses, model_sig, model_bkg)\n",
    "    _ = plt.plot(widths, sig_cts, label=\"Signal\")\n",
    "    _ = plt.plot(widths, bkg_cts, label=\"Background\")\n",
    "    _ = plt.yscale('log')\n",
    "    _ = plt.xlabel(r\"Cut Width [GeV / $c^2$]\")\n",
    "    _ = plt.ylabel(r\"Events [per GeV / $c^2$ / month]\")"
   ]
  },
  {
   "cell_type": "code",
   "execution_count": null,
   "id": "910e0eb9",
   "metadata": {},
   "outputs": [],
   "source": [
    "def find_sig2noise(mass_grid, model_sig, model_bkg, plot=True):\n",
    "    sig_cts = np.zeros(26)\n",
    "    bkg_cts = np.zeros(26)\n",
    "    widths = np.linspace(0, 25, 26)\n",
    "    for i, width in enumerate(widths):\n",
    "        if i == 0:\n",
    "            continue\n",
    "        sig_cts[i], bkg_cts[i] = passed_cuts(width, mass_grid, model_sig, model_bkg)\n",
    "    sig2noise = np.zeros(26)\n",
    "    sig2noise[1:] = sig_cts[1:]/np.sqrt(bkg_cts[1:])\n",
    "    if plot:\n",
    "        _ = plt.plot(widths, sig_cts/np.sqrt(bkg_cts))\n",
    "    return sig2noise"
   ]
  },
  {
   "cell_type": "code",
   "execution_count": null,
   "id": "1a1a5cb1",
   "metadata": {},
   "outputs": [],
   "source": [
    "def extract_peak_from_data(cut_width, masses, nevts):\n",
    "    mask = np.abs(masses - 125) < cut_width\n",
    "    return np.sum(nevts[mask])"
   ]
  },
  {
   "cell_type": "code",
   "execution_count": null,
   "id": "d84af33d",
   "metadata": {},
   "outputs": [],
   "source": [
    "def estimate_bkg_from_data(masses, nevts, cut_width):\n",
    "    mask_bkg_lo = np.abs(masses-105) < cut_width\n",
    "    mask_bkg_hi = np.abs(masses-145) < cut_width\n",
    "    mask_bkg = np.bitwise_or(mask_bkg_lo, mask_bkg_hi)\n",
    "    bkg_estimate = 0.5 * np.sum(nevts[mask_bkg])\n",
    "    return (bkg_estimate, np.sqrt(bkg_estimate))"
   ]
  },
  {
   "cell_type": "code",
   "execution_count": null,
   "id": "7e1d8738",
   "metadata": {},
   "outputs": [],
   "source": [
    "ref_mass = 130.\n",
    "nsig_per_month = 20.\n",
    "nbkg_per_mev_per_month = 40.\n",
    "bkg_slope_per_mev_per_month = -0.2\n",
    "model_bkg = poly1(mass_grid, ref_mass, nbkg_per_mev_per_month, bkg_slope_per_mev_per_month)\n",
    "model_sig = Gauss(mass_grid, nsig_per_month, Higgs_Mass, Higgs_Width)"
   ]
  },
  {
   "cell_type": "code",
   "execution_count": null,
   "id": "ee21c8a5",
   "metadata": {},
   "outputs": [],
   "source": [
    "_ = plt.plot(mass_grid, model_sig, label=\"Signal\")\n",
    "_ = plt.plot(mass_grid, model_bkg, label=\"Background\")\n",
    "_ = plt.xlabel(r\"Mass [GeV/$c^2$]\")\n",
    "_ = plt.ylabel(r\"Counts [per GeV/$c^2$]\")"
   ]
  },
  {
   "cell_type": "code",
   "execution_count": null,
   "id": "161f8ad6",
   "metadata": {
    "scrolled": true
   },
   "outputs": [],
   "source": [
    "plot_nexp_passed_cuts(mass_grid, model_sig, model_bkg)"
   ]
  },
  {
   "cell_type": "code",
   "execution_count": null,
   "id": "73fb775f",
   "metadata": {},
   "outputs": [],
   "source": [
    "_ = find_sig2noise(mass_grid, model_sig, model_bkg)"
   ]
  },
  {
   "cell_type": "code",
   "execution_count": null,
   "id": "4e44a2e6",
   "metadata": {},
   "outputs": [],
   "source": [
    "max_s2n = np.zeros(24)\n",
    "best_cut = np.zeros(24)\n",
    "n_months_array = np.arange(24)\n",
    "for n_months in n_months_array:\n",
    "    if n_months == 0:\n",
    "        continue\n",
    "    s2n = find_sig2noise(mass_grid, n_months*model_sig, n_months*model_bkg, plot=False)\n",
    "    max_s2n[n_months] = np.max(s2n)\n",
    "    best_cut[n_months] = np.argmax(s2n)\n",
    "_ = plt.scatter(n_months_array, max_s2n)"
   ]
  },
  {
   "cell_type": "code",
   "execution_count": null,
   "id": "5a3348a5",
   "metadata": {},
   "outputs": [],
   "source": [
    "_ = plt.plot(mass_grid, 24*(model_sig+model_bkg))"
   ]
  },
  {
   "cell_type": "code",
   "execution_count": null,
   "id": "6bfb85a3",
   "metadata": {},
   "outputs": [],
   "source": [
    "#tot_model = np.random.poisson(24*(model_sig+model_bkg))\n",
    "#try:\n",
    "#    os.unlink('Higgs.txt')\n",
    "#except FileNotFoundError:\n",
    "#    pass\n",
    "#fout = open('Higgs.txt', 'w')\n",
    "#fout.write(\"# Mass     Nevts\\n\")\n",
    "#for mass, nevt in zip(mass_grid, tot_model):\n",
    "#    fout.write(\"%0.1f %i\\n\" % (mass, nevt))\n",
    "#fout.close()"
   ]
  },
  {
   "cell_type": "code",
   "execution_count": null,
   "id": "fbc66963",
   "metadata": {},
   "outputs": [],
   "source": [
    "data = np.loadtxt('Higgs.txt')\n",
    "masses = data[:,0]\n",
    "nevts = data[:,1]\n",
    "errors = np.sqrt(nevts)\n",
    "_ = plt.errorbar(masses, nevts, yerr=errors, fmt='.')"
   ]
  },
  {
   "cell_type": "code",
   "execution_count": null,
   "id": "09047b74",
   "metadata": {},
   "outputs": [],
   "source": [
    "n_peak = extract_peak_from_data(6, masses, nevts)\n",
    "print(n_peak)\n",
    "n_bkg, sigma_bkg = estimate_bkg_from_data(masses, nevts, 6)\n",
    "print(n_bkg, sigma_bkg)\n",
    "n_sigma = (n_peak - n_bkg)/sigma_bkg\n",
    "print(n_sigma)"
   ]
  },
  {
   "cell_type": "code",
   "execution_count": null,
   "id": "b1b79b47",
   "metadata": {},
   "outputs": [],
   "source": [
    "from functools import partial\n",
    "\n",
    "def Gauss(x, nsig, mu, sigma):\n",
    "    return nsig*sps.norm(loc=mu, scale=sigma).pdf(x)\n",
    "\n",
    "def poly1(x, ref_mass, offset, slope):\n",
    "    return offset + (x-ref_mass)*slope\n",
    "\n",
    "def model_func(x, ref_mass, nsig, offset, slope):\n",
    "    return Gauss(x, nsig, Higgs_Mass, Higgs_Width) + poly1(x, ref_mass, offset, slope)\n",
    "\n",
    "def generic_chi2(params, data_vals, model, x, ref_mass):\n",
    "    model_vals = model(x, ref_mass, *params)\n",
    "    return np.sum(((data_vals - model_vals)**2)/data_vals)\n",
    "\n",
    "def cost_func(data_vals, model, x, ref_mass):\n",
    "    return partial(generic_chi2, data_vals=data_vals, model=model, x=x, ref_mass=ref_mass)"
   ]
  },
  {
   "cell_type": "code",
   "execution_count": null,
   "id": "550e92d9",
   "metadata": {},
   "outputs": [],
   "source": [
    "def fitAndPlotResult(masses, nevts, ref_mass, init_pars):\n",
    "    our_cost_func = cost_func(nevts, model_func, masses, ref_mass=ref_mass)\n",
    "    result = optimize.minimize(our_cost_func, x0=np.array(init_pars))\n",
    "    fit_pars = result['x']\n",
    "    cov = result['hess_inv']\n",
    "    model_fit = model_func(masses, ref_mass, *fit_pars)\n",
    "    background_fit = poly1(masses, ref_mass, fit_pars[1], fit_pars[2])\n",
    "    print(\"Best Fit ---------\")\n",
    "    print(\"N Signal: %.1f [Events]\" % fit_pars[0])\n",
    "    print(\"Higgs Peak: %.4f [GeV]\" % Higgs_Mass)\n",
    "    print(\"Higgs Width: %.4f [GeV]\" % Higgs_Width)\n",
    "    print(\"Background at 125 GeV: %.2f [Events / GeV]\" % fit_pars[1])\n",
    "    print(\"Background slope: %.2f [Events / GeV / GeV]\" % fit_pars[2])\n",
    "    _ = plt.errorbar(masses, nevts, yerr=np.sqrt(nevts), fmt='.', label=\"data\")\n",
    "    _ = plt.plot(masses, background_fit, label=\"background model\")\n",
    "    _ = plt.plot(masses, model_fit, label=\"full model\")\n",
    "    _ = plt.xlabel(r\"mass [GeV]\")\n",
    "    _ = plt.ylabel(\"Events [per GeV]\")\n",
    "    _ = plt.legend()\n",
    "    print(cov)\n",
    "    return (fit_pars[0], np.sqrt(cov[0,0]))"
   ]
  },
  {
   "cell_type": "code",
   "execution_count": null,
   "id": "401d6da4",
   "metadata": {},
   "outputs": [],
   "source": [
    "init_pars = [200, 1000, -5.]"
   ]
  },
  {
   "cell_type": "code",
   "execution_count": null,
   "id": "9a817f36",
   "metadata": {},
   "outputs": [],
   "source": [
    "fitAndPlotResult(masses, nevts, ref_mass, init_pars)"
   ]
  },
  {
   "cell_type": "code",
   "execution_count": null,
   "id": "b228dfa7",
   "metadata": {},
   "outputs": [],
   "source": []
  },
  {
   "cell_type": "code",
   "execution_count": null,
   "id": "fbb19298",
   "metadata": {},
   "outputs": [],
   "source": []
  },
  {
   "cell_type": "code",
   "execution_count": null,
   "id": "2a31aae5",
   "metadata": {},
   "outputs": [],
   "source": []
  }
 ],
 "metadata": {
  "kernelspec": {
   "display_name": "Python 3",
   "language": "python",
   "name": "python3"
  },
  "language_info": {
   "codemirror_mode": {
    "name": "ipython",
    "version": 3
   },
   "file_extension": ".py",
   "mimetype": "text/x-python",
   "name": "python",
   "nbconvert_exporter": "python",
   "pygments_lexer": "ipython3",
   "version": "3.8.10"
  }
 },
 "nbformat": 4,
 "nbformat_minor": 5
}
