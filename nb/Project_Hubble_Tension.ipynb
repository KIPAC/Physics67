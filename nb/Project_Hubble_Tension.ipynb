{
 "cells": [
  {
   "cell_type": "code",
   "execution_count": null,
   "id": "d923c78f",
   "metadata": {},
   "outputs": [],
   "source": [
    "%matplotlib inline\n",
    "import matplotlib.pyplot as plt\n",
    "import numpy as np"
   ]
  },
  {
   "cell_type": "code",
   "execution_count": null,
   "id": "d486f7f8",
   "metadata": {},
   "outputs": [],
   "source": [
    "data = np.loadtxt(open(\"../data/Hubble_Extra.txt\", 'rb'), usecols=[1,2,3,4])\n"
   ]
  },
  {
   "cell_type": "code",
   "execution_count": null,
   "id": "b4c9b0dc",
   "metadata": {},
   "outputs": [],
   "source": [
    "# This is how we pull out the data from columns in the array.\n",
    "H0_measured = data[:,0]\n",
    "H0_errorLow = data[:,1]\n",
    "H0_errorHigh = data[:,2]\n",
    "H0_type = data[:,3]\n",
    "N_measurements = H0_measured.size\n",
    "print(H0_measured)"
   ]
  },
  {
   "cell_type": "code",
   "execution_count": null,
   "id": "b4cdf17f",
   "metadata": {},
   "outputs": [],
   "source": [
    "type_1_mask = H0_type == 1\n",
    "type_2_mask = H0_type == 2"
   ]
  },
  {
   "cell_type": "code",
   "execution_count": null,
   "id": "91ed6d79",
   "metadata": {},
   "outputs": [],
   "source": [
    "np.std(H0_measured[type_1_mask])"
   ]
  },
  {
   "cell_type": "code",
   "execution_count": null,
   "id": "8086f340",
   "metadata": {},
   "outputs": [],
   "source": []
  }
 ],
 "metadata": {
  "kernelspec": {
   "display_name": "Python 3",
   "language": "python",
   "name": "python3"
  },
  "language_info": {
   "codemirror_mode": {
    "name": "ipython",
    "version": 3
   },
   "file_extension": ".py",
   "mimetype": "text/x-python",
   "name": "python",
   "nbconvert_exporter": "python",
   "pygments_lexer": "ipython3",
   "version": "3.8.10"
  }
 },
 "nbformat": 4,
 "nbformat_minor": 5
}
